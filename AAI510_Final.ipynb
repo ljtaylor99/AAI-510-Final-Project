{
  "nbformat": 4,
  "nbformat_minor": 0,
  "metadata": {
    "colab": {
      "provenance": [],
      "gpuType": "T4",
      "include_colab_link": true
    },
    "kernelspec": {
      "name": "python3",
      "display_name": "Python 3"
    },
    "language_info": {
      "name": "python"
    },
    "accelerator": "GPU"
  },
  "cells": [
    {
      "cell_type": "markdown",
      "metadata": {
        "id": "view-in-github",
        "colab_type": "text"
      },
      "source": [
        "<a href=\"https://colab.research.google.com/github/ljtaylor99/AAI-510-Final-Project/blob/main/AAI510_Final.ipynb\" target=\"_parent\"><img src=\"https://colab.research.google.com/assets/colab-badge.svg\" alt=\"Open In Colab\"/></a>"
      ]
    },
    {
      "cell_type": "markdown",
      "source": [
        "# AAI 510 Final Project\n",
        "\n",
        "Lauren Taylor, Jester Ugalde, Xavier Plasencia"
      ],
      "metadata": {
        "id": "1L2cbIVjAUzK"
      }
    },
    {
      "cell_type": "markdown",
      "source": [
        "## Problem Statement"
      ],
      "metadata": {
        "id": "9_1j6zSVBHTd"
      }
    },
    {
      "cell_type": "markdown",
      "source": [
        "For businesses, online review sites such as Yelp provide valuable input on customer's experiences. Because of this, monitoring those comments are vital for ensuring a business' success.\n",
        "\n",
        "However, this can become more difficult if there is a high volume of reviews being posted. To address this problem we are going to utilize Natural Language Processing (NLP).\n",
        "\n",
        "The goal of this project is to summarize common concerns from a corpus of review text. We intend to accomplish this goal through sentiment analysis and the extraction of N-grams.\n",
        "\n",
        "The desired outcome is to provide an efficient and automated tool that entrepreneurs can use to manage and improve their businesses."
      ],
      "metadata": {
        "id": "2pkpGE-PBPYk"
      }
    },
    {
      "cell_type": "markdown",
      "source": [
        "#### Imports"
      ],
      "metadata": {
        "id": "5KDXfvA0rO-E"
      }
    },
    {
      "cell_type": "code",
      "execution_count": 1,
      "metadata": {
        "id": "6s1IIPAaq3rX",
        "colab": {
          "base_uri": "https://localhost:8080/"
        },
        "outputId": "b647267f-551c-440f-9405-e64fa87adea5"
      },
      "outputs": [
        {
          "output_type": "stream",
          "name": "stderr",
          "text": [
            "[nltk_data] Downloading package punkt to /root/nltk_data...\n",
            "[nltk_data]   Unzipping tokenizers/punkt.zip.\n",
            "[nltk_data] Downloading package stopwords to /root/nltk_data...\n",
            "[nltk_data]   Unzipping corpora/stopwords.zip.\n",
            "[nltk_data] Downloading package vader_lexicon to /root/nltk_data...\n"
          ]
        },
        {
          "output_type": "execute_result",
          "data": {
            "text/plain": [
              "True"
            ]
          },
          "metadata": {},
          "execution_count": 1
        }
      ],
      "source": [
        "import matplotlib.pyplot as plt\n",
        "import numpy as np\n",
        "import pandas as pd\n",
        "import seaborn as sns\n",
        "import nltk\n",
        "from collections import Counter\n",
        "from nltk.probability import FreqDist\n",
        "from nltk.corpus import stopwords\n",
        "from nltk import ngrams\n",
        "nltk.download('punkt')\n",
        "nltk.download('stopwords')\n",
        "nltk.download('vader_lexicon')"
      ]
    },
    {
      "cell_type": "markdown",
      "source": [
        "#### Reading json"
      ],
      "metadata": {
        "id": "kNxnrjrErR9a"
      }
    },
    {
      "cell_type": "code",
      "source": [
        "from google.colab import drive\n",
        "drive.mount('/content/drive')"
      ],
      "metadata": {
        "colab": {
          "base_uri": "https://localhost:8080/"
        },
        "id": "tFgqqhLiB8Fd",
        "outputId": "dd22a788-7a89-47e9-c87a-5bd3e51b553e"
      },
      "execution_count": 2,
      "outputs": [
        {
          "output_type": "stream",
          "name": "stdout",
          "text": [
            "Mounted at /content/drive\n"
          ]
        }
      ]
    },
    {
      "cell_type": "code",
      "source": [
        "# Click on Mount Drive to connect to Google Drive\n",
        "# Navigate to json file from dataset and replace file path\n",
        "df = pd.read_json('/content/drive/MyDrive/Copy of yelp_academic_dataset_review.json',nrows = 2000000,lines=True)\n",
        "df.head(5)"
      ],
      "metadata": {
        "id": "AGLnnZb8rFKj",
        "colab": {
          "base_uri": "https://localhost:8080/",
          "height": 337
        },
        "outputId": "e3dd329a-c89d-4999-fa12-3e75fec71624"
      },
      "execution_count": 3,
      "outputs": [
        {
          "output_type": "execute_result",
          "data": {
            "text/plain": [
              "                review_id                 user_id             business_id  \\\n",
              "0  KU_O5udG6zpxOg-VcAEodg  mh_-eMZ6K5RLWhZyISBhwA  XQfwVwDr-v0ZS3_CbbE5Xw   \n",
              "1  BiTunyQ73aT9WBnpR9DZGw  OyoGAe7OKpv6SyGZT5g77Q  7ATYjTIgM3jUlt4UM3IypQ   \n",
              "2  saUsX_uimxRlCVr67Z4Jig  8g_iMtfSiwikVnbP2etR0A  YjUWPpI6HXG530lwP-fb2A   \n",
              "3  AqPFMleE6RsU23_auESxiA  _7bHUi9Uuf5__HHc_Q8guQ  kxX2SOes4o-D3ZQBkiMRfA   \n",
              "4  Sx8TMOWLNuJBWer-0pcmoA  bcjbaE6dDog4jkNY91ncLQ  e4Vwtrqf-wpJfwesgvdgxQ   \n",
              "\n",
              "   stars  useful  funny  cool  \\\n",
              "0      3       0      0     0   \n",
              "1      5       1      0     1   \n",
              "2      3       0      0     0   \n",
              "3      5       1      0     1   \n",
              "4      4       1      0     1   \n",
              "\n",
              "                                                text                date  \n",
              "0  If you decide to eat here, just be aware it is... 2018-07-07 22:09:11  \n",
              "1  I've taken a lot of spin classes over the year... 2012-01-03 15:28:18  \n",
              "2  Family diner. Had the buffet. Eclectic assortm... 2014-02-05 20:30:30  \n",
              "3  Wow!  Yummy, different,  delicious.   Our favo... 2015-01-04 00:01:03  \n",
              "4  Cute interior and owner (?) gave us tour of up... 2017-01-14 20:54:15  "
            ],
            "text/html": [
              "\n",
              "  <div id=\"df-69e2db0b-bd96-47ed-9bdd-c7da2f396fc7\">\n",
              "    <div class=\"colab-df-container\">\n",
              "      <div>\n",
              "<style scoped>\n",
              "    .dataframe tbody tr th:only-of-type {\n",
              "        vertical-align: middle;\n",
              "    }\n",
              "\n",
              "    .dataframe tbody tr th {\n",
              "        vertical-align: top;\n",
              "    }\n",
              "\n",
              "    .dataframe thead th {\n",
              "        text-align: right;\n",
              "    }\n",
              "</style>\n",
              "<table border=\"1\" class=\"dataframe\">\n",
              "  <thead>\n",
              "    <tr style=\"text-align: right;\">\n",
              "      <th></th>\n",
              "      <th>review_id</th>\n",
              "      <th>user_id</th>\n",
              "      <th>business_id</th>\n",
              "      <th>stars</th>\n",
              "      <th>useful</th>\n",
              "      <th>funny</th>\n",
              "      <th>cool</th>\n",
              "      <th>text</th>\n",
              "      <th>date</th>\n",
              "    </tr>\n",
              "  </thead>\n",
              "  <tbody>\n",
              "    <tr>\n",
              "      <th>0</th>\n",
              "      <td>KU_O5udG6zpxOg-VcAEodg</td>\n",
              "      <td>mh_-eMZ6K5RLWhZyISBhwA</td>\n",
              "      <td>XQfwVwDr-v0ZS3_CbbE5Xw</td>\n",
              "      <td>3</td>\n",
              "      <td>0</td>\n",
              "      <td>0</td>\n",
              "      <td>0</td>\n",
              "      <td>If you decide to eat here, just be aware it is...</td>\n",
              "      <td>2018-07-07 22:09:11</td>\n",
              "    </tr>\n",
              "    <tr>\n",
              "      <th>1</th>\n",
              "      <td>BiTunyQ73aT9WBnpR9DZGw</td>\n",
              "      <td>OyoGAe7OKpv6SyGZT5g77Q</td>\n",
              "      <td>7ATYjTIgM3jUlt4UM3IypQ</td>\n",
              "      <td>5</td>\n",
              "      <td>1</td>\n",
              "      <td>0</td>\n",
              "      <td>1</td>\n",
              "      <td>I've taken a lot of spin classes over the year...</td>\n",
              "      <td>2012-01-03 15:28:18</td>\n",
              "    </tr>\n",
              "    <tr>\n",
              "      <th>2</th>\n",
              "      <td>saUsX_uimxRlCVr67Z4Jig</td>\n",
              "      <td>8g_iMtfSiwikVnbP2etR0A</td>\n",
              "      <td>YjUWPpI6HXG530lwP-fb2A</td>\n",
              "      <td>3</td>\n",
              "      <td>0</td>\n",
              "      <td>0</td>\n",
              "      <td>0</td>\n",
              "      <td>Family diner. Had the buffet. Eclectic assortm...</td>\n",
              "      <td>2014-02-05 20:30:30</td>\n",
              "    </tr>\n",
              "    <tr>\n",
              "      <th>3</th>\n",
              "      <td>AqPFMleE6RsU23_auESxiA</td>\n",
              "      <td>_7bHUi9Uuf5__HHc_Q8guQ</td>\n",
              "      <td>kxX2SOes4o-D3ZQBkiMRfA</td>\n",
              "      <td>5</td>\n",
              "      <td>1</td>\n",
              "      <td>0</td>\n",
              "      <td>1</td>\n",
              "      <td>Wow!  Yummy, different,  delicious.   Our favo...</td>\n",
              "      <td>2015-01-04 00:01:03</td>\n",
              "    </tr>\n",
              "    <tr>\n",
              "      <th>4</th>\n",
              "      <td>Sx8TMOWLNuJBWer-0pcmoA</td>\n",
              "      <td>bcjbaE6dDog4jkNY91ncLQ</td>\n",
              "      <td>e4Vwtrqf-wpJfwesgvdgxQ</td>\n",
              "      <td>4</td>\n",
              "      <td>1</td>\n",
              "      <td>0</td>\n",
              "      <td>1</td>\n",
              "      <td>Cute interior and owner (?) gave us tour of up...</td>\n",
              "      <td>2017-01-14 20:54:15</td>\n",
              "    </tr>\n",
              "  </tbody>\n",
              "</table>\n",
              "</div>\n",
              "      <button class=\"colab-df-convert\" onclick=\"convertToInteractive('df-69e2db0b-bd96-47ed-9bdd-c7da2f396fc7')\"\n",
              "              title=\"Convert this dataframe to an interactive table.\"\n",
              "              style=\"display:none;\">\n",
              "        \n",
              "  <svg xmlns=\"http://www.w3.org/2000/svg\" height=\"24px\"viewBox=\"0 0 24 24\"\n",
              "       width=\"24px\">\n",
              "    <path d=\"M0 0h24v24H0V0z\" fill=\"none\"/>\n",
              "    <path d=\"M18.56 5.44l.94 2.06.94-2.06 2.06-.94-2.06-.94-.94-2.06-.94 2.06-2.06.94zm-11 1L8.5 8.5l.94-2.06 2.06-.94-2.06-.94L8.5 2.5l-.94 2.06-2.06.94zm10 10l.94 2.06.94-2.06 2.06-.94-2.06-.94-.94-2.06-.94 2.06-2.06.94z\"/><path d=\"M17.41 7.96l-1.37-1.37c-.4-.4-.92-.59-1.43-.59-.52 0-1.04.2-1.43.59L10.3 9.45l-7.72 7.72c-.78.78-.78 2.05 0 2.83L4 21.41c.39.39.9.59 1.41.59.51 0 1.02-.2 1.41-.59l7.78-7.78 2.81-2.81c.8-.78.8-2.07 0-2.86zM5.41 20L4 18.59l7.72-7.72 1.47 1.35L5.41 20z\"/>\n",
              "  </svg>\n",
              "      </button>\n",
              "      \n",
              "  <style>\n",
              "    .colab-df-container {\n",
              "      display:flex;\n",
              "      flex-wrap:wrap;\n",
              "      gap: 12px;\n",
              "    }\n",
              "\n",
              "    .colab-df-convert {\n",
              "      background-color: #E8F0FE;\n",
              "      border: none;\n",
              "      border-radius: 50%;\n",
              "      cursor: pointer;\n",
              "      display: none;\n",
              "      fill: #1967D2;\n",
              "      height: 32px;\n",
              "      padding: 0 0 0 0;\n",
              "      width: 32px;\n",
              "    }\n",
              "\n",
              "    .colab-df-convert:hover {\n",
              "      background-color: #E2EBFA;\n",
              "      box-shadow: 0px 1px 2px rgba(60, 64, 67, 0.3), 0px 1px 3px 1px rgba(60, 64, 67, 0.15);\n",
              "      fill: #174EA6;\n",
              "    }\n",
              "\n",
              "    [theme=dark] .colab-df-convert {\n",
              "      background-color: #3B4455;\n",
              "      fill: #D2E3FC;\n",
              "    }\n",
              "\n",
              "    [theme=dark] .colab-df-convert:hover {\n",
              "      background-color: #434B5C;\n",
              "      box-shadow: 0px 1px 3px 1px rgba(0, 0, 0, 0.15);\n",
              "      filter: drop-shadow(0px 1px 2px rgba(0, 0, 0, 0.3));\n",
              "      fill: #FFFFFF;\n",
              "    }\n",
              "  </style>\n",
              "\n",
              "      <script>\n",
              "        const buttonEl =\n",
              "          document.querySelector('#df-69e2db0b-bd96-47ed-9bdd-c7da2f396fc7 button.colab-df-convert');\n",
              "        buttonEl.style.display =\n",
              "          google.colab.kernel.accessAllowed ? 'block' : 'none';\n",
              "\n",
              "        async function convertToInteractive(key) {\n",
              "          const element = document.querySelector('#df-69e2db0b-bd96-47ed-9bdd-c7da2f396fc7');\n",
              "          const dataTable =\n",
              "            await google.colab.kernel.invokeFunction('convertToInteractive',\n",
              "                                                     [key], {});\n",
              "          if (!dataTable) return;\n",
              "\n",
              "          const docLinkHtml = 'Like what you see? Visit the ' +\n",
              "            '<a target=\"_blank\" href=https://colab.research.google.com/notebooks/data_table.ipynb>data table notebook</a>'\n",
              "            + ' to learn more about interactive tables.';\n",
              "          element.innerHTML = '';\n",
              "          dataTable['output_type'] = 'display_data';\n",
              "          await google.colab.output.renderOutput(dataTable, element);\n",
              "          const docLink = document.createElement('div');\n",
              "          docLink.innerHTML = docLinkHtml;\n",
              "          element.appendChild(docLink);\n",
              "        }\n",
              "      </script>\n",
              "    </div>\n",
              "  </div>\n",
              "  "
            ]
          },
          "metadata": {},
          "execution_count": 3
        }
      ]
    },
    {
      "cell_type": "markdown",
      "source": [
        "#### Basic EDA"
      ],
      "metadata": {
        "id": "z_BZ-054t3J1"
      }
    },
    {
      "cell_type": "code",
      "source": [
        "# Data frame columns\n",
        "df.columns"
      ],
      "metadata": {
        "id": "NfoBjmPHrn9_",
        "colab": {
          "base_uri": "https://localhost:8080/"
        },
        "outputId": "968a4dfb-2e94-44b8-a977-cebe45ff7c09"
      },
      "execution_count": 4,
      "outputs": [
        {
          "output_type": "execute_result",
          "data": {
            "text/plain": [
              "Index(['review_id', 'user_id', 'business_id', 'stars', 'useful', 'funny',\n",
              "       'cool', 'text', 'date'],\n",
              "      dtype='object')"
            ]
          },
          "metadata": {},
          "execution_count": 4
        }
      ]
    },
    {
      "cell_type": "code",
      "source": [
        "# Null values by column\n",
        "df.isnull().sum()"
      ],
      "metadata": {
        "id": "nVGSelIPrq12",
        "colab": {
          "base_uri": "https://localhost:8080/"
        },
        "outputId": "30380c91-0a0a-450c-d206-47c59e074600"
      },
      "execution_count": 5,
      "outputs": [
        {
          "output_type": "execute_result",
          "data": {
            "text/plain": [
              "review_id      0\n",
              "user_id        0\n",
              "business_id    0\n",
              "stars          0\n",
              "useful         0\n",
              "funny          0\n",
              "cool           0\n",
              "text           0\n",
              "date           0\n",
              "dtype: int64"
            ]
          },
          "metadata": {},
          "execution_count": 5
        }
      ]
    },
    {
      "cell_type": "code",
      "source": [
        "# Descriptive statistics\n",
        "df.describe(include='all')"
      ],
      "metadata": {
        "id": "XtxyTxT2sPUz",
        "colab": {
          "base_uri": "https://localhost:8080/",
          "height": 678
        },
        "outputId": "261b2acf-1b0e-4821-a076-bb2764368cde"
      },
      "execution_count": 6,
      "outputs": [
        {
          "output_type": "stream",
          "name": "stderr",
          "text": [
            "<ipython-input-6-5ff7d67b3f6b>:2: FutureWarning: Treating datetime data as categorical rather than numeric in `.describe` is deprecated and will be removed in a future version of pandas. Specify `datetime_is_numeric=True` to silence this warning and adopt the future behavior now.\n",
            "  df.describe(include='all')\n"
          ]
        },
        {
          "output_type": "execute_result",
          "data": {
            "text/plain": [
              "                     review_id                 user_id  \\\n",
              "count                  2000000                 2000000   \n",
              "unique                 2000000                  895930   \n",
              "top     KU_O5udG6zpxOg-VcAEodg  _BcWyKQL16ndpBdggh2kNA   \n",
              "freq                         1                     894   \n",
              "first                      NaN                     NaN   \n",
              "last                       NaN                     NaN   \n",
              "mean                       NaN                     NaN   \n",
              "std                        NaN                     NaN   \n",
              "min                        NaN                     NaN   \n",
              "25%                        NaN                     NaN   \n",
              "50%                        NaN                     NaN   \n",
              "75%                        NaN                     NaN   \n",
              "max                        NaN                     NaN   \n",
              "\n",
              "                   business_id         stars        useful         funny  \\\n",
              "count                  2000000  2.000000e+06  2.000000e+06  2.000000e+06   \n",
              "unique                   45055           NaN           NaN           NaN   \n",
              "top     VQcCL9PiNL_wkGf-uF3fjg           NaN           NaN           NaN   \n",
              "freq                      4706           NaN           NaN           NaN   \n",
              "first                      NaN           NaN           NaN           NaN   \n",
              "last                       NaN           NaN           NaN           NaN   \n",
              "mean                       NaN  3.766570e+00  1.145340e+00  3.195710e-01   \n",
              "std                        NaN  1.462870e+00  2.909354e+00  1.641546e+00   \n",
              "min                        NaN  1.000000e+00 -1.000000e+00  0.000000e+00   \n",
              "25%                        NaN  3.000000e+00  0.000000e+00  0.000000e+00   \n",
              "50%                        NaN  4.000000e+00  0.000000e+00  0.000000e+00   \n",
              "75%                        NaN  5.000000e+00  1.000000e+00  0.000000e+00   \n",
              "max                        NaN  5.000000e+00  5.390000e+02  2.840000e+02   \n",
              "\n",
              "                cool                                               text  \\\n",
              "count   2.000000e+06                                            2000000   \n",
              "unique           NaN                                            1996202   \n",
              "top              NaN  DO NOT PARK HERE!\\nthey are too quick to boot ...   \n",
              "freq             NaN                                                  6   \n",
              "first            NaN                                                NaN   \n",
              "last             NaN                                                NaN   \n",
              "mean    4.794245e-01                                                NaN   \n",
              "std     1.925800e+00                                                NaN   \n",
              "min     0.000000e+00                                                NaN   \n",
              "25%     0.000000e+00                                                NaN   \n",
              "50%     0.000000e+00                                                NaN   \n",
              "75%     0.000000e+00                                                NaN   \n",
              "max     2.010000e+02                                                NaN   \n",
              "\n",
              "                       date  \n",
              "count               2000000  \n",
              "unique              1991307  \n",
              "top     2019-05-08 23:38:13  \n",
              "freq                      4  \n",
              "first   2005-03-01 16:57:17  \n",
              "last    2022-01-19 19:47:59  \n",
              "mean                    NaN  \n",
              "std                     NaN  \n",
              "min                     NaN  \n",
              "25%                     NaN  \n",
              "50%                     NaN  \n",
              "75%                     NaN  \n",
              "max                     NaN  "
            ],
            "text/html": [
              "\n",
              "  <div id=\"df-fa2c1c3b-d10e-41fa-bf4a-236310e2edab\">\n",
              "    <div class=\"colab-df-container\">\n",
              "      <div>\n",
              "<style scoped>\n",
              "    .dataframe tbody tr th:only-of-type {\n",
              "        vertical-align: middle;\n",
              "    }\n",
              "\n",
              "    .dataframe tbody tr th {\n",
              "        vertical-align: top;\n",
              "    }\n",
              "\n",
              "    .dataframe thead th {\n",
              "        text-align: right;\n",
              "    }\n",
              "</style>\n",
              "<table border=\"1\" class=\"dataframe\">\n",
              "  <thead>\n",
              "    <tr style=\"text-align: right;\">\n",
              "      <th></th>\n",
              "      <th>review_id</th>\n",
              "      <th>user_id</th>\n",
              "      <th>business_id</th>\n",
              "      <th>stars</th>\n",
              "      <th>useful</th>\n",
              "      <th>funny</th>\n",
              "      <th>cool</th>\n",
              "      <th>text</th>\n",
              "      <th>date</th>\n",
              "    </tr>\n",
              "  </thead>\n",
              "  <tbody>\n",
              "    <tr>\n",
              "      <th>count</th>\n",
              "      <td>2000000</td>\n",
              "      <td>2000000</td>\n",
              "      <td>2000000</td>\n",
              "      <td>2.000000e+06</td>\n",
              "      <td>2.000000e+06</td>\n",
              "      <td>2.000000e+06</td>\n",
              "      <td>2.000000e+06</td>\n",
              "      <td>2000000</td>\n",
              "      <td>2000000</td>\n",
              "    </tr>\n",
              "    <tr>\n",
              "      <th>unique</th>\n",
              "      <td>2000000</td>\n",
              "      <td>895930</td>\n",
              "      <td>45055</td>\n",
              "      <td>NaN</td>\n",
              "      <td>NaN</td>\n",
              "      <td>NaN</td>\n",
              "      <td>NaN</td>\n",
              "      <td>1996202</td>\n",
              "      <td>1991307</td>\n",
              "    </tr>\n",
              "    <tr>\n",
              "      <th>top</th>\n",
              "      <td>KU_O5udG6zpxOg-VcAEodg</td>\n",
              "      <td>_BcWyKQL16ndpBdggh2kNA</td>\n",
              "      <td>VQcCL9PiNL_wkGf-uF3fjg</td>\n",
              "      <td>NaN</td>\n",
              "      <td>NaN</td>\n",
              "      <td>NaN</td>\n",
              "      <td>NaN</td>\n",
              "      <td>DO NOT PARK HERE!\\nthey are too quick to boot ...</td>\n",
              "      <td>2019-05-08 23:38:13</td>\n",
              "    </tr>\n",
              "    <tr>\n",
              "      <th>freq</th>\n",
              "      <td>1</td>\n",
              "      <td>894</td>\n",
              "      <td>4706</td>\n",
              "      <td>NaN</td>\n",
              "      <td>NaN</td>\n",
              "      <td>NaN</td>\n",
              "      <td>NaN</td>\n",
              "      <td>6</td>\n",
              "      <td>4</td>\n",
              "    </tr>\n",
              "    <tr>\n",
              "      <th>first</th>\n",
              "      <td>NaN</td>\n",
              "      <td>NaN</td>\n",
              "      <td>NaN</td>\n",
              "      <td>NaN</td>\n",
              "      <td>NaN</td>\n",
              "      <td>NaN</td>\n",
              "      <td>NaN</td>\n",
              "      <td>NaN</td>\n",
              "      <td>2005-03-01 16:57:17</td>\n",
              "    </tr>\n",
              "    <tr>\n",
              "      <th>last</th>\n",
              "      <td>NaN</td>\n",
              "      <td>NaN</td>\n",
              "      <td>NaN</td>\n",
              "      <td>NaN</td>\n",
              "      <td>NaN</td>\n",
              "      <td>NaN</td>\n",
              "      <td>NaN</td>\n",
              "      <td>NaN</td>\n",
              "      <td>2022-01-19 19:47:59</td>\n",
              "    </tr>\n",
              "    <tr>\n",
              "      <th>mean</th>\n",
              "      <td>NaN</td>\n",
              "      <td>NaN</td>\n",
              "      <td>NaN</td>\n",
              "      <td>3.766570e+00</td>\n",
              "      <td>1.145340e+00</td>\n",
              "      <td>3.195710e-01</td>\n",
              "      <td>4.794245e-01</td>\n",
              "      <td>NaN</td>\n",
              "      <td>NaN</td>\n",
              "    </tr>\n",
              "    <tr>\n",
              "      <th>std</th>\n",
              "      <td>NaN</td>\n",
              "      <td>NaN</td>\n",
              "      <td>NaN</td>\n",
              "      <td>1.462870e+00</td>\n",
              "      <td>2.909354e+00</td>\n",
              "      <td>1.641546e+00</td>\n",
              "      <td>1.925800e+00</td>\n",
              "      <td>NaN</td>\n",
              "      <td>NaN</td>\n",
              "    </tr>\n",
              "    <tr>\n",
              "      <th>min</th>\n",
              "      <td>NaN</td>\n",
              "      <td>NaN</td>\n",
              "      <td>NaN</td>\n",
              "      <td>1.000000e+00</td>\n",
              "      <td>-1.000000e+00</td>\n",
              "      <td>0.000000e+00</td>\n",
              "      <td>0.000000e+00</td>\n",
              "      <td>NaN</td>\n",
              "      <td>NaN</td>\n",
              "    </tr>\n",
              "    <tr>\n",
              "      <th>25%</th>\n",
              "      <td>NaN</td>\n",
              "      <td>NaN</td>\n",
              "      <td>NaN</td>\n",
              "      <td>3.000000e+00</td>\n",
              "      <td>0.000000e+00</td>\n",
              "      <td>0.000000e+00</td>\n",
              "      <td>0.000000e+00</td>\n",
              "      <td>NaN</td>\n",
              "      <td>NaN</td>\n",
              "    </tr>\n",
              "    <tr>\n",
              "      <th>50%</th>\n",
              "      <td>NaN</td>\n",
              "      <td>NaN</td>\n",
              "      <td>NaN</td>\n",
              "      <td>4.000000e+00</td>\n",
              "      <td>0.000000e+00</td>\n",
              "      <td>0.000000e+00</td>\n",
              "      <td>0.000000e+00</td>\n",
              "      <td>NaN</td>\n",
              "      <td>NaN</td>\n",
              "    </tr>\n",
              "    <tr>\n",
              "      <th>75%</th>\n",
              "      <td>NaN</td>\n",
              "      <td>NaN</td>\n",
              "      <td>NaN</td>\n",
              "      <td>5.000000e+00</td>\n",
              "      <td>1.000000e+00</td>\n",
              "      <td>0.000000e+00</td>\n",
              "      <td>0.000000e+00</td>\n",
              "      <td>NaN</td>\n",
              "      <td>NaN</td>\n",
              "    </tr>\n",
              "    <tr>\n",
              "      <th>max</th>\n",
              "      <td>NaN</td>\n",
              "      <td>NaN</td>\n",
              "      <td>NaN</td>\n",
              "      <td>5.000000e+00</td>\n",
              "      <td>5.390000e+02</td>\n",
              "      <td>2.840000e+02</td>\n",
              "      <td>2.010000e+02</td>\n",
              "      <td>NaN</td>\n",
              "      <td>NaN</td>\n",
              "    </tr>\n",
              "  </tbody>\n",
              "</table>\n",
              "</div>\n",
              "      <button class=\"colab-df-convert\" onclick=\"convertToInteractive('df-fa2c1c3b-d10e-41fa-bf4a-236310e2edab')\"\n",
              "              title=\"Convert this dataframe to an interactive table.\"\n",
              "              style=\"display:none;\">\n",
              "        \n",
              "  <svg xmlns=\"http://www.w3.org/2000/svg\" height=\"24px\"viewBox=\"0 0 24 24\"\n",
              "       width=\"24px\">\n",
              "    <path d=\"M0 0h24v24H0V0z\" fill=\"none\"/>\n",
              "    <path d=\"M18.56 5.44l.94 2.06.94-2.06 2.06-.94-2.06-.94-.94-2.06-.94 2.06-2.06.94zm-11 1L8.5 8.5l.94-2.06 2.06-.94-2.06-.94L8.5 2.5l-.94 2.06-2.06.94zm10 10l.94 2.06.94-2.06 2.06-.94-2.06-.94-.94-2.06-.94 2.06-2.06.94z\"/><path d=\"M17.41 7.96l-1.37-1.37c-.4-.4-.92-.59-1.43-.59-.52 0-1.04.2-1.43.59L10.3 9.45l-7.72 7.72c-.78.78-.78 2.05 0 2.83L4 21.41c.39.39.9.59 1.41.59.51 0 1.02-.2 1.41-.59l7.78-7.78 2.81-2.81c.8-.78.8-2.07 0-2.86zM5.41 20L4 18.59l7.72-7.72 1.47 1.35L5.41 20z\"/>\n",
              "  </svg>\n",
              "      </button>\n",
              "      \n",
              "  <style>\n",
              "    .colab-df-container {\n",
              "      display:flex;\n",
              "      flex-wrap:wrap;\n",
              "      gap: 12px;\n",
              "    }\n",
              "\n",
              "    .colab-df-convert {\n",
              "      background-color: #E8F0FE;\n",
              "      border: none;\n",
              "      border-radius: 50%;\n",
              "      cursor: pointer;\n",
              "      display: none;\n",
              "      fill: #1967D2;\n",
              "      height: 32px;\n",
              "      padding: 0 0 0 0;\n",
              "      width: 32px;\n",
              "    }\n",
              "\n",
              "    .colab-df-convert:hover {\n",
              "      background-color: #E2EBFA;\n",
              "      box-shadow: 0px 1px 2px rgba(60, 64, 67, 0.3), 0px 1px 3px 1px rgba(60, 64, 67, 0.15);\n",
              "      fill: #174EA6;\n",
              "    }\n",
              "\n",
              "    [theme=dark] .colab-df-convert {\n",
              "      background-color: #3B4455;\n",
              "      fill: #D2E3FC;\n",
              "    }\n",
              "\n",
              "    [theme=dark] .colab-df-convert:hover {\n",
              "      background-color: #434B5C;\n",
              "      box-shadow: 0px 1px 3px 1px rgba(0, 0, 0, 0.15);\n",
              "      filter: drop-shadow(0px 1px 2px rgba(0, 0, 0, 0.3));\n",
              "      fill: #FFFFFF;\n",
              "    }\n",
              "  </style>\n",
              "\n",
              "      <script>\n",
              "        const buttonEl =\n",
              "          document.querySelector('#df-fa2c1c3b-d10e-41fa-bf4a-236310e2edab button.colab-df-convert');\n",
              "        buttonEl.style.display =\n",
              "          google.colab.kernel.accessAllowed ? 'block' : 'none';\n",
              "\n",
              "        async function convertToInteractive(key) {\n",
              "          const element = document.querySelector('#df-fa2c1c3b-d10e-41fa-bf4a-236310e2edab');\n",
              "          const dataTable =\n",
              "            await google.colab.kernel.invokeFunction('convertToInteractive',\n",
              "                                                     [key], {});\n",
              "          if (!dataTable) return;\n",
              "\n",
              "          const docLinkHtml = 'Like what you see? Visit the ' +\n",
              "            '<a target=\"_blank\" href=https://colab.research.google.com/notebooks/data_table.ipynb>data table notebook</a>'\n",
              "            + ' to learn more about interactive tables.';\n",
              "          element.innerHTML = '';\n",
              "          dataTable['output_type'] = 'display_data';\n",
              "          await google.colab.output.renderOutput(dataTable, element);\n",
              "          const docLink = document.createElement('div');\n",
              "          docLink.innerHTML = docLinkHtml;\n",
              "          element.appendChild(docLink);\n",
              "        }\n",
              "      </script>\n",
              "    </div>\n",
              "  </div>\n",
              "  "
            ]
          },
          "metadata": {},
          "execution_count": 6
        }
      ]
    },
    {
      "cell_type": "code",
      "source": [
        "# Value counts for different businesses\n",
        "df['business_id'].value_counts()"
      ],
      "metadata": {
        "colab": {
          "base_uri": "https://localhost:8080/"
        },
        "id": "hxrD3XKEFyZs",
        "outputId": "1cd76a30-82f3-4077-cee1-6d530fad7b6e"
      },
      "execution_count": 7,
      "outputs": [
        {
          "output_type": "execute_result",
          "data": {
            "text/plain": [
              "VQcCL9PiNL_wkGf-uF3fjg    4706\n",
              "GBTPC53ZrG1ZBY3DT8Mbcw    4661\n",
              "_C7QiQQc47AOEv4PE3Kong    4440\n",
              "qb28j-FNX1_6xm7u372TZA    3561\n",
              "DcBLYSvOuWcNReolRVr12A    3217\n",
              "                          ... \n",
              "0U5d1K0p0u9e_NmX7U3FUA       1\n",
              "qKjOn_PJQIudpQpoolB0bw       1\n",
              "dGLx7Ls5DQtlG0sLcZ0DZQ       1\n",
              "6BJ4LYa42I-gBz9IhhidYg       1\n",
              "AFU5ZlFCYA0_Eqw5MlqJOg       1\n",
              "Name: business_id, Length: 45055, dtype: int64"
            ]
          },
          "metadata": {},
          "execution_count": 7
        }
      ]
    },
    {
      "cell_type": "code",
      "source": [
        "# Value counts of stars\n",
        "df['stars'].value_counts()"
      ],
      "metadata": {
        "colab": {
          "base_uri": "https://localhost:8080/"
        },
        "id": "rVgWWBFQpYbv",
        "outputId": "d90706b6-ed1e-4a37-c36d-271610b55a5d"
      },
      "execution_count": 8,
      "outputs": [
        {
          "output_type": "execute_result",
          "data": {
            "text/plain": [
              "5    924989\n",
              "4    425651\n",
              "1    293571\n",
              "3    200443\n",
              "2    155346\n",
              "Name: stars, dtype: int64"
            ]
          },
          "metadata": {},
          "execution_count": 8
        }
      ]
    },
    {
      "cell_type": "code",
      "source": [
        "# Plot distribution of stars\n",
        "plt.xlabel('Number of Stars')\n",
        "plt.title('Distribution of Star Ratings')\n",
        "sns.histplot(df['stars'],bins = 5)"
      ],
      "metadata": {
        "colab": {
          "base_uri": "https://localhost:8080/",
          "height": 490
        },
        "id": "CZedDUkdHrKQ",
        "outputId": "030aadb3-ec8c-4e93-dc6c-795b50097c7c"
      },
      "execution_count": 9,
      "outputs": [
        {
          "output_type": "execute_result",
          "data": {
            "text/plain": [
              "<Axes: title={'center': 'Distribution of Star Ratings'}, xlabel='Number of Stars', ylabel='Count'>"
            ]
          },
          "metadata": {},
          "execution_count": 9
        },
        {
          "output_type": "display_data",
          "data": {
            "text/plain": [
              "<Figure size 640x480 with 1 Axes>"
            ],
            "image/png": "[encoded data removed]"
          },
          "metadata": {}
        }
      ]
    },
    {
      "cell_type": "markdown",
      "source": [
        "## Data Prep/Engineering"
      ],
      "metadata": {
        "id": "N_eXC3TVpGFY"
      }
    },
    {
      "cell_type": "code",
      "source": [
        "# Use reviews from one business\n",
        "df_b1 = df[df['business_id']=='VQcCL9PiNL_wkGf-uF3fjg']\n",
        "len(df_b1)"
      ],
      "metadata": {
        "colab": {
          "base_uri": "https://localhost:8080/"
        },
        "id": "tAHjezFewVlo",
        "outputId": "5ed65cc6-6599-43a1-9e97-651faaa80a2e"
      },
      "execution_count": 10,
      "outputs": [
        {
          "output_type": "execute_result",
          "data": {
            "text/plain": [
              "4706"
            ]
          },
          "metadata": {},
          "execution_count": 10
        }
      ]
    },
    {
      "cell_type": "code",
      "source": [
        "# Plot distribution of stars for business\n",
        "plt.xlabel('Number of Stars')\n",
        "plt.title('Distribution of Star Ratings')\n",
        "sns.histplot(df_b1['stars'],bins = 5)"
      ],
      "metadata": {
        "colab": {
          "base_uri": "https://localhost:8080/",
          "height": 490
        },
        "id": "0GoXyOIrg-1j",
        "outputId": "0edfbcb6-9251-4314-966d-0e28cfd3839b"
      },
      "execution_count": 11,
      "outputs": [
        {
          "output_type": "execute_result",
          "data": {
            "text/plain": [
              "<Axes: title={'center': 'Distribution of Star Ratings'}, xlabel='Number of Stars', ylabel='Count'>"
            ]
          },
          "metadata": {},
          "execution_count": 11
        },
        {
          "output_type": "display_data",
          "data": {
            "text/plain": [
              "<Figure size 640x480 with 1 Axes>"
            ],
            "image/png": "[encoded data removed]"
          },
          "metadata": {}
        }
      ]
    },
    {
      "cell_type": "code",
      "source": [
        "# Tokenize sentences\n",
        "sentences = df_b1['text'].apply(nltk.sent_tokenize)\n",
        "# Reset index\n",
        "sentences.reset_index(inplace = True,drop = True)\n",
        "sentences1 = []\n",
        "# Combine sentences into 1 list\n",
        "for r in sentences:\n",
        "  for s in r:\n",
        "    sentences1.append(s)\n",
        "\n",
        "# Print sentences for first review\n",
        "sentences[0]"
      ],
      "metadata": {
        "colab": {
          "base_uri": "https://localhost:8080/"
        },
        "id": "k4xt8U2hpIZC",
        "outputId": "c083500b-d08b-40ba-f90b-0e31614392b2"
      },
      "execution_count": 12,
      "outputs": [
        {
          "output_type": "execute_result",
          "data": {
            "text/plain": [
              "['We waited about five minutes to get seated for the group of five, and we were seated upstairs.',\n",
              " 'Our server was really friendly and gave us a quick rundown of the menu, and we got the crawfish beignet as an appetizer from the checking on Yelp.',\n",
              " \"Apparently the appetizer isn't free like the Yelp check-in says but it's -$10 for whatever appetizer you get.\",\n",
              " 'Anyway, we ordered a bunch of food including two platters of oysters, and we then we started waiting.',\n",
              " 'And waiting.',\n",
              " 'After maybe twenty minutes, our first platter of oysters came, closely followed by the second plate.',\n",
              " \"We noticed the second plate wasn't what we ordered so we asked the waiter who took it back.\",\n",
              " 'We then waited for another twenty or thirty minutes for our food, and our entrees came.',\n",
              " 'Our oysters never did.',\n",
              " 'We told the waiter and he said there was a mixup and our oysters were given to the table next to us.',\n",
              " \"The manager came by afterward and told us that she'd give us two orders of what we got on the house (too bad I don't really eat oysters).\",\n",
              " 'So I ate my crawfish etouffee and it was quite good.',\n",
              " 'A bit salty, but good.',\n",
              " 'Nice spicy flavor and a good amount of crawfish, both fried bits on top and in the sauce.',\n",
              " 'I asked for more bread as well so I could soak up the sauce.',\n",
              " 'I quite enjoyed that dish.',\n",
              " 'When the oysters finally came after we had already all finished our meal (this was probably another 10-15 minutes), the Rockefeller oysters came and I tried one.',\n",
              " 'Way too much cheese on top!',\n",
              " 'Otherwise I think ok as far as oysters go.',\n",
              " 'Then we asked for the check do which also took at least five minutes to get here.',\n",
              " \"My crawfish dish was $17 pre-tax which is a bit pricey, and combined with the mixup and the super long waiting times, I wouldn't suggest coming here.\",\n",
              " \"The waiter apologized many times for the mixup which is fine, but it doesn't excuse the super long wait times for our main entrees.\",\n",
              " \"To be fair, my food (the crawfish etouffee) was quite good and deserves 4 stars, but the long long long wait and inefficiencies (I'm excusing the mix-up with the oysters because there was a miscommunication which I understand happens - what isn't excusable is how long we waited for our entrees/other dishes, the check, etc etc) subtracted 1 star.\"]"
            ]
          },
          "metadata": {},
          "execution_count": 12
        }
      ]
    },
    {
      "cell_type": "code",
      "source": [
        "# Tokenize words\n",
        "words = df_b1['text'].apply(nltk.word_tokenize)\n",
        "# Reset index\n",
        "words.reset_index(inplace = True,drop = True)"
      ],
      "metadata": {
        "id": "T5M1fhAvuRKd"
      },
      "execution_count": 13,
      "outputs": []
    },
    {
      "cell_type": "code",
      "source": [
        "# combine the lists of words into one list\n",
        "words1 = []\n",
        "for i in words:\n",
        "  for j in i:\n",
        "    words1.append(j)\n"
      ],
      "metadata": {
        "id": "tVv4LC5w3gt8"
      },
      "execution_count": 14,
      "outputs": []
    },
    {
      "cell_type": "code",
      "source": [
        "word_freq = FreqDist(words1)\n",
        "# Print 20 most common words\n",
        "word_freq.most_common(20)"
      ],
      "metadata": {
        "colab": {
          "base_uri": "https://localhost:8080/"
        },
        "id": "4vYKc02f1CP6",
        "outputId": "201ed09d-2b56-4f65-e6f1-446a52ea9606"
      },
      "execution_count": 15,
      "outputs": [
        {
          "output_type": "execute_result",
          "data": {
            "text/plain": [
              "[('.', 26550),\n",
              " ('the', 18604),\n",
              " ('and', 14863),\n",
              " (',', 12575),\n",
              " ('was', 11814),\n",
              " ('a', 8825),\n",
              " ('I', 8674),\n",
              " ('to', 7591),\n",
              " ('!', 6524),\n",
              " ('of', 5675),\n",
              " ('The', 4670),\n",
              " ('it', 4550),\n",
              " ('were', 4443),\n",
              " ('in', 4372),\n",
              " ('for', 4330),\n",
              " ('we', 3819),\n",
              " ('had', 3700),\n",
              " ('but', 3221),\n",
              " ('with', 3058),\n",
              " ('We', 2983)]"
            ]
          },
          "metadata": {},
          "execution_count": 15
        }
      ]
    },
    {
      "cell_type": "code",
      "source": [
        "# Remove punctuation\n",
        "no_p = []\n",
        "for i in words1:\n",
        "  if i.isalpha():\n",
        "    no_p.append(i.lower())\n",
        "\n",
        "# Remove stopwords\n",
        "stop_words = stopwords.words('english')\n",
        "no_s = []\n",
        "for j in no_p:\n",
        "  if j not in stop_words:\n",
        "    no_s.append(j)"
      ],
      "metadata": {
        "id": "e08dOvWJ4K1V"
      },
      "execution_count": 16,
      "outputs": []
    },
    {
      "cell_type": "code",
      "source": [
        "# Word frequency of clean data\n",
        "word_freq = FreqDist(no_s)\n",
        "\n",
        "# Top 20 words\n",
        "word_freq.most_common(20)"
      ],
      "metadata": {
        "colab": {
          "base_uri": "https://localhost:8080/"
        },
        "id": "V5EIf49aeShC",
        "outputId": "edbc838b-61d1-47a6-d035-021134a33197"
      },
      "execution_count": 17,
      "outputs": [
        {
          "output_type": "execute_result",
          "data": {
            "text/plain": [
              "[('food', 3316),\n",
              " ('oysters', 3026),\n",
              " ('good', 2719),\n",
              " ('great', 2486),\n",
              " ('service', 2014),\n",
              " ('shrimp', 1758),\n",
              " ('place', 1725),\n",
              " ('new', 1468),\n",
              " ('orleans', 1354),\n",
              " ('ordered', 1303),\n",
              " ('us', 1296),\n",
              " ('would', 1265),\n",
              " ('crab', 1161),\n",
              " ('royal', 1095),\n",
              " ('got', 1076),\n",
              " ('back', 1076),\n",
              " ('time', 1076),\n",
              " ('like', 1047),\n",
              " ('came', 1037),\n",
              " ('best', 999)]"
            ]
          },
          "metadata": {},
          "execution_count": 17
        }
      ]
    },
    {
      "cell_type": "code",
      "source": [
        "# Plot word frequency\n",
        "plt.title('Most Frequent Words')\n",
        "word_freq.plot(20)"
      ],
      "metadata": {
        "colab": {
          "base_uri": "https://localhost:8080/",
          "height": 530
        },
        "id": "Zt4qq9W7exc_",
        "outputId": "e37ec44d-5f24-4277-8d67-5c8bab89d174"
      },
      "execution_count": 18,
      "outputs": [
        {
          "output_type": "display_data",
          "data": {
            "text/plain": [
              "<Figure size 640x480 with 1 Axes>"
            ],
            "image/png": "[encoded data removed]"
          },
          "metadata": {}
        },
        {
          "output_type": "execute_result",
          "data": {
            "text/plain": [
              "<Axes: title={'center': 'Most Frequent Words'}, xlabel='Samples', ylabel='Counts'>"
            ]
          },
          "metadata": {},
          "execution_count": 18
        }
      ]
    },
    {
      "cell_type": "code",
      "source": [
        "# See contexts in which common words appear\n",
        "from nltk.text import Text\n",
        "corpus = Text(no_p)\n",
        "corpus.concordance('service')"
      ],
      "metadata": {
        "colab": {
          "base_uri": "https://localhost:8080/"
        },
        "id": "67kJkDKVjSJm",
        "outputId": "f1332d42-4fca-4d15-da0c-5e70c13190bc"
      },
      "execution_count": 19,
      "outputs": [
        {
          "output_type": "stream",
          "name": "stdout",
          "text": [
            "Displaying 25 of 2014 matches:\n",
            "sitting at the bar downstairs or up service is very attentive and food is every\n",
            "fter use the free appetizers coupon service was very good this place was delici\n",
            "verly salty good ambience and great service we had friends recommend that we go\n",
            "r great ambience and energy and the service was personalized and prompt food wa\n",
            " server tina was the best excellent service french onion soup was great the cha\n",
            " pretty fantastic as well very slow service it took us minutes just to get a wa\n",
            "arted this restaurant has the worst service of any restaurant i have ever been \n",
            "d the banana foster with cheesecake service was not that great we were initiall\n",
            " you do get much of special attn on service side i think is being generous here\n",
            "ou can do better in that area great service and staff food was fun ate a lot of\n",
            "nd we were seated by the window the service was spectacular however we were les\n",
            " spent almost our whole night there service was just that slow would never come\n",
            "first and foremost we had the worst service the fellow we had did even deserve \n",
            "w we had did even deserve a tip his service was atrocious at best we started wi\n",
            "all you deserve no tip the food and service at this place are absolutely horren\n",
            "ony was great to people watch great service too also a discount for being a loc\n",
            "tely amazing loved the food and the service here oysters on the half shell shuc\n",
            "nks food thanks becks for the great service and awesome much appreciated also l\n",
            "and providing an excellent customer service we came here for our last evening i\n",
            "et in my opinion food was just okay service is slow alligator bites tastes like\n",
            "okay nothing particularly stood out service is slow eating time was but we prob\n",
            "re on a late saturday afternoon the service was a bit slow otherwise would have\n",
            "imp tortellini was also amazing the service is slow or i would give stars i als\n",
            "ated quickly on the balcony and the service was fast and friendly but the food \n",
            "were good though epic fail terrible service awful drinks i am my friend ordered\n"
          ]
        }
      ]
    },
    {
      "cell_type": "markdown",
      "source": [
        "## Sentiment Analysis"
      ],
      "metadata": {
        "id": "tKuDMU4QzcAB"
      }
    },
    {
      "cell_type": "code",
      "source": [
        "\n",
        "from nltk.sentiment.vader import SentimentIntensityAnalyzer\n",
        "# Analyze the sentiment of text, return the comments as lists of positive and negative sentences\n",
        "# Input is list of sentences\n",
        "def get_sentiment(txt):\n",
        "  sia = SentimentIntensityAnalyzer()\n",
        "  pos_com = []\n",
        "  neg_com = []\n",
        "  for s in txt:\n",
        "      # Get sentiment of sentence\n",
        "      sent_ = sia.polarity_scores(s)\n",
        "      if sent_['compound'] > .6:\n",
        "        pos_com.append(s)\n",
        "      elif sent_['compound'] < -.6:\n",
        "        neg_com.append(s)\n",
        "\n",
        "  return(pos_com,neg_com)\n",
        "\n"
      ],
      "metadata": {
        "id": "xJWP3JUqu-ef"
      },
      "execution_count": 20,
      "outputs": []
    },
    {
      "cell_type": "markdown",
      "source": [
        "## Evaluation"
      ],
      "metadata": {
        "id": "GjW9-JutG3Kx"
      }
    },
    {
      "cell_type": "code",
      "source": [
        "# Run function\n",
        "gs = get_sentiment(sentences1)\n",
        "# First 20 positive comments\n",
        "gs[0][0:20]"
      ],
      "metadata": {
        "colab": {
          "base_uri": "https://localhost:8080/"
        },
        "id": "mpovx2BJJCxN",
        "outputId": "47466328-75f3-40a9-ab94-c6db7bd47be6"
      },
      "execution_count": 21,
      "outputs": [
        {
          "output_type": "execute_result",
          "data": {
            "text/plain": [
              "['Nice spicy flavor and a good amount of crawfish, both fried bits on top and in the sauce.',\n",
              " 'Our food was cold our wonderful waitress Sydney came back have it heated for us  And she stood there to make sure that we try that that it would be hot.',\n",
              " 'Use the free appetizers coupon.. Service was very good.',\n",
              " 'The crab fingers appetizer was fabulous!!!',\n",
              " \"It's like $10 and you don't even know how good.\",\n",
              " 'Good ambience and great service.',\n",
              " 'We had friends recommend that we go to the Royal House on a recent trip to NOLA.',\n",
              " 'He suggested the best oysters we had ever had!',\n",
              " 'Chris was so great that we came back everyday on our trip to sit at the bar and have oysters and drinks.',\n",
              " 'For appetizers, grilled oysters were awesome.',\n",
              " 'Great ambience and energy and the service was personalized and prompt.',\n",
              " 'Our server Tina was the best.',\n",
              " 'Excellent service!',\n",
              " 'French onion soup was great.',\n",
              " 'The chargrilled oysters are on the small side compared to dragos which are big and great.',\n",
              " 'We like this place because we can sit by open window and we are never disappointed.',\n",
              " 'My server/oyster shucker was Antoine and he was very friendly and helpful.',\n",
              " 'Their chicken and andouille sausage gumbo is amazing though not as spicy as some would like I think.',\n",
              " 'I had the Dark and Stormy cocktail which was pretty fantastic as well.',\n",
              " 'Wait staff is friendly and helpful.']"
            ]
          },
          "metadata": {},
          "execution_count": 21
        }
      ]
    },
    {
      "cell_type": "code",
      "source": [
        "# First 20 negative comments\n",
        "gs[1][0:20]"
      ],
      "metadata": {
        "colab": {
          "base_uri": "https://localhost:8080/"
        },
        "id": "kHRroDPDSfLC",
        "outputId": "e99e4309-1c1c-48c7-988c-0a22348ded09"
      },
      "execution_count": 22,
      "outputs": [
        {
          "output_type": "execute_result",
          "data": {
            "text/plain": [
              "['Creole shrimp was bomb, gator bites on point and the crawfish ravioli was to die for.',\n",
              " 'We wanted to order for a while then magically as I type this for you our waitress appears and we order the \"taste of New Orleans\" and the \"Po Boi\" also stuffed mushrooms to get started!!!!',\n",
              " 'This restaurant has the worst service of any restaurant I have ever been to in NOLA.',\n",
              " ':( I had the Alaskan Snow Crab which was either overcooked or not fresh because the meat was stuck on the shells, some parts of it were cold, too.',\n",
              " 'But the crab claw appetizer was to die for.',\n",
              " 'It was one of the worst places I have ever eaten in my entire life.',\n",
              " 'The pear martini was made with the Worst tasting ingredients of all time and so much melon liquor that is all I could taste.',\n",
              " 'The bloody mary I am told was just as bad and overly salty.',\n",
              " 'I am one to tip very well when warranted,  if you are a good server and even if you are having a bad day and I can tell I still  tip well but if you give it no effort at all you deserve no tip!!!',\n",
              " 'The food and service at this place are absolutely horrendous!!!',\n",
              " 'Sad, sad sad.',\n",
              " \"And so there we sat, watching the show of people below us who had no idea that right above their heads were ladies sipping on their Bloody Mary's watching the world go by.\",\n",
              " \"(2 stars)\\n\\nOverall, I give the place 4 stars because the atmosphere wasn't great and the bad experience with the appetizer.\",\n",
              " 'EPIC Fail - Terrible service, awful drinks.',\n",
              " 'Our waitress was Tina and she killed it.',\n",
              " \"I guess if you're hammered you don't really notice the crap service, too bad we were sober.\",\n",
              " 'Food was cold.. Not spicy at all ( as told).. And the service was slow as hell!',\n",
              " 'The crab claws all the way to the French onion soup are to die for!!!!!!!!!!!',\n",
              " 'The shrimp po boy was horribly dry (decided to give this one another try as well,  I came here over a year ago) and too much batter on the shrimp... Again.',\n",
              " 'Our apps never showed up until our entrees were brought out... food trickled out to the table within 30 minutes of each other... no apologies.... poor service and food experience.']"
            ]
          },
          "metadata": {},
          "execution_count": 22
        }
      ]
    },
    {
      "cell_type": "markdown",
      "source": [
        "### There's some misclassification. The classifier seems to misunderstand slang, falsely classifying phrases like 'the bomb' or 'to die for' as negative."
      ],
      "metadata": {
        "id": "tg7YWSCLTJ7n"
      }
    },
    {
      "cell_type": "code",
      "source": [
        "# Take closer look at misclassifed sentence\n",
        "sia = SentimentIntensityAnalyzer()\n",
        "sia.polarity_scores('The crab claws all the way to the French onion soup are to die for!!!!!!!!!!!',)"
      ],
      "metadata": {
        "colab": {
          "base_uri": "https://localhost:8080/"
        },
        "id": "KAtCPhMizunp",
        "outputId": "f203d0e0-12ff-4572-d9f4-bca4829fcc57"
      },
      "execution_count": 23,
      "outputs": [
        {
          "output_type": "execute_result",
          "data": {
            "text/plain": [
              "{'neg': 0.266, 'neu': 0.734, 'pos': 0.0, 'compound': -0.7243}"
            ]
          },
          "metadata": {},
          "execution_count": 23
        }
      ]
    },
    {
      "cell_type": "markdown",
      "source": [
        "### In order to validate the sentiment of comments we are going to incorporate information about the star rating."
      ],
      "metadata": {
        "id": "zcKPe9ASFShM"
      }
    },
    {
      "cell_type": "code",
      "source": [
        "# Find metrics for performance False positive/negatives?"
      ],
      "metadata": {
        "id": "uj4yDh1cJMLN"
      },
      "execution_count": 24,
      "outputs": []
    },
    {
      "cell_type": "code",
      "source": [
        "def validate_sentiment(df):\n",
        "  val_score = []\n",
        "  sia = SentimentIntensityAnalyzer()\n",
        "  for i, j in df.iterrows():\n",
        "    pol_score = sia.polarity_scores(df['text'][i])\n",
        "    # False Negative - Star is positive\n",
        "    if pol_score['compound'] < -0.6 and df['stars'][i] >= 4:\n",
        "      val_score.append('Positive')\n",
        "    # True Negative - Star and Review Negative\n",
        "    elif pol_score['compound'] < -0.6 and df['stars'][i] <= 2:\n",
        "      val_score.append('Negative')\n",
        "    # True Neutral\n",
        "    elif (-0.6 > pol_score['compound'] < 0.6) and (2 > df['stars'][i] < 4):\n",
        "      val_score.append('Neutral')\n",
        "    # False Positive\n",
        "    elif pol_score['compound'] > 0.6 and df['stars'][i] >= 2:\n",
        "      val_score.append('Negative')\n",
        "    # True Positive\n",
        "    elif pol_score['compound'] > 0.6 and df['stars'][i] >= 4:\n",
        "      val_score.append('Positive')\n",
        "    # Regular Sentiment\n",
        "    elif pol_score['compound'] < -0.6:\n",
        "      val_score.append('Negative')\n",
        "    elif (-0.6 > pol_score['compound'] < 0.6):\n",
        "      val_score.append('Neutral')\n",
        "    elif pol_score['compound'] > 0.6:\n",
        "      val_score.append('Positive')\n",
        "    df['True Sentiment'] = val_score\n",
        "    return df\n"
      ],
      "metadata": {
        "id": "DhLb1kI2XIqF"
      },
      "execution_count": 25,
      "outputs": []
    },
    {
      "cell_type": "markdown",
      "source": [
        "## Final Model"
      ],
      "metadata": {
        "id": "EqX8jTf1DVvk"
      }
    },
    {
      "cell_type": "markdown",
      "source": [
        "#### Turning all the code into a class to deploy giving us top N positive and negative N-Grams"
      ],
      "metadata": {
        "id": "lnrY4mye7fXi"
      }
    },
    {
      "cell_type": "code",
      "source": [
        "class top_neg_pos_reviews:\n",
        "  # initializing some parameters\n",
        "  def __init__(self, num_reviews, n_grams, x_num_grams, top_x_rev):\n",
        "    self.num_reviews = num_reviews\n",
        "    self.n_grams = n_grams\n",
        "    self.x_num_grams = x_num_grams\n",
        "    self.top_x_rev = top_x_rev\n",
        "\n",
        "  # tokenize words into list of all texts\n",
        "  def tokenize_to_list(self, df):\n",
        "    # Tokenize words\n",
        "    tok_words = df['text'].apply(nltk.word_tokenize)\n",
        "    # Reset index\n",
        "    tok_words.reset_index(inplace = True,drop = True)\n",
        "    # combine the lists of words into one list\n",
        "    words = []\n",
        "    for i in tok_words:\n",
        "      for j in i:\n",
        "        words.append(j)\n",
        "    return words\n",
        "\n",
        "  #remove punctuation and stop words\n",
        "  def remove_punc_and_stop(self, list_of_words):\n",
        "    no_punct = []\n",
        "    for i in list_of_words:\n",
        "      if i.isalpha():\n",
        "        no_punct.append(i.lower())\n",
        "\n",
        "    # Remove stopwords\n",
        "    stop_words = stopwords.words('english')\n",
        "    no_stop = []\n",
        "    for j in no_punct:\n",
        "      if j not in stop_words:\n",
        "        no_stop.append(j)\n",
        "    return no_stop\n",
        "\n",
        "  # get sentiment of sentence\n",
        "  def sentiment(self, df):\n",
        "    comp_score = []\n",
        "    val_score = []\n",
        "    sia = SentimentIntensityAnalyzer()\n",
        "    for i, j in df.iterrows():\n",
        "      pol_score = sia.polarity_scores(df['text'][i])\n",
        "      # True Negative - Star and Review Negative\n",
        "      if (pol_score['compound'] <= -0.6) and (df['stars'][i] <= 2):\n",
        "        val_score.append('Negative')\n",
        "        comp_score.append(pol_score['compound'])\n",
        "      # True Neutral\n",
        "      elif (-0.6 > pol_score['compound'] <= 0.6) and (2 > df['stars'][i] < 4):\n",
        "        val_score.append('Neutral')\n",
        "        comp_score.append(pol_score['compound'])\n",
        "      # True Positive\n",
        "      elif (pol_score['compound'] >= 0.6) and (df['stars'][i] >= 4):\n",
        "        val_score.append('Positive')\n",
        "        comp_score.append(pol_score['compound'])\n",
        "      # False Positive\n",
        "      elif (pol_score['compound'] >= 0.6) and (df['stars'][i] >= 2):\n",
        "        val_score.append('Negative')\n",
        "        comp_score.append(pol_score['compound'])\n",
        "      # False Negative - Star is positive\n",
        "      elif (pol_score['compound'] <= -0.6) and (df['stars'][i] >= 4):\n",
        "        val_score.append('Positive')\n",
        "        comp_score.append(pol_score['compound'])\n",
        "      # Regular Sentiment\n",
        "      elif pol_score['compound'] <= -0.6:\n",
        "        val_score.append('Negative')\n",
        "        comp_score.append(pol_score['compound'])\n",
        "      elif pol_score['compound'] >= 0.6:\n",
        "        val_score.append('Positive')\n",
        "        comp_score.append(pol_score['compound'])\n",
        "      else:\n",
        "        val_score.append('Neutral')\n",
        "        comp_score.append(pol_score['compound'])\n",
        "    df['True Sentiment'] = val_score\n",
        "    df['compound_score'] = comp_score\n",
        "    return df\n",
        "\n",
        "  # get N_gram from data\n",
        "  def n_gram(self, df):\n",
        "      # Tokenizing using function above\n",
        "      if 'text' in df.columns:\n",
        "        words = self.tokenize_to_list(df)\n",
        "      else:\n",
        "        print('DataFrame must have \\'text\\' column')\n",
        "      # Removing punctuation and stop words using function above\n",
        "      no_p_no_s = self.remove_punc_and_stop(words)\n",
        "      # Creating Positive Review Corpus\n",
        "      corpus = Text(no_p_no_s)\n",
        "      ngram_counts = Counter(ngrams(corpus, self.n_grams))\n",
        "      return ngram_counts.most_common(self.num_reviews)\n",
        "\n",
        "  def get_tuple_str(self, tup_string):\n",
        "    joined_str = '|'.join(tup_string)\n",
        "    return joined_str\n",
        "\n",
        "  def get_reviews(self, input_df, review_type):\n",
        "    # Calling sentiment on dataframe\n",
        "    df = self.sentiment(input_df.reset_index(drop=True))\n",
        "    # Subsetting df based on Positive Reviews\n",
        "    if review_type == 'Positive':\n",
        "      df_pos = df[df['True Sentiment'] == 'Positive'].reset_index(drop=True)\n",
        "      pos_n_gram = self.n_gram(df_pos)\n",
        "      # Calling n_gram to create corpus and get top n reviews\n",
        "      print('Top ' + str(self.num_reviews) + ' ' + str(review_type) +\n",
        "            ' for ' + str(self.n_grams) + '-grams:\\n')\n",
        "      # Printing out n-grams with freq values\n",
        "      for x in pos_n_gram:\n",
        "        print(str(x) + '\\n')\n",
        "      # Looping through number of n-grams to print out\n",
        "      for i in range(self.x_num_grams):\n",
        "        df_pos_n_gram = df_pos[df_pos['text'].str.contains(self.get_tuple_str(pos_n_gram[i][0]))]\n",
        "        # Getting number of top reviews that contains each n-gram\n",
        "        top_x_idx = df_pos_n_gram.nlargest(n=self.top_x_rev, columns=['compound_score'])\n",
        "        # Printing out reviews\n",
        "        for m, n in top_x_idx.iterrows():\n",
        "          print('Review #' + str(m + 1) + ' for number ' + str(i+1) + ' ' + str(self.n_grams) + '-grams:\\n')\n",
        "          print(top_x_idx['text'][m] + '\\n')\n",
        "    # Subsetting df based on Negative Reviews\n",
        "    elif review_type == 'Negative':\n",
        "      df_neg = df[df['True Sentiment'] == 'Negative'].reset_index(drop=True)\n",
        "      neg_n_gram = self.n_gram(df_neg)\n",
        "      print('Top ' + str(self.num_reviews) + ' ' + str(review_type) +\n",
        "            ' for ' + str(self.n_grams) + '-grams:\\n')\n",
        "      for x in self.n_gram(df_neg):\n",
        "        print(str(x) + '\\n')\n",
        "      for i in range(self.x_num_grams):\n",
        "        df_neg_n_gram = df_neg[df_neg['text'].str.contains(self.get_tuple_str(neg_n_gram[i][0]))]\n",
        "        top_x_idx = df_neg_n_gram.nlargest(n=self.top_x_rev, columns=['compound_score'])\n",
        "        for m, n in top_x_idx.iterrows():\n",
        "          print('Review #' + str(m + 1) + ' for number ' + str(i+1) + ' ' + str(self.n_grams) + '-grams:\\n')\n",
        "          print(top_x_idx['text'][m] + '\\n')\n",
        "    # Subsetting df based on Neutral Reviews\n",
        "    elif review_type == 'Neutral':\n",
        "      df_neu = df[df['True Sentiment'] == 'Neutral'].reset_index(drop=True)\n",
        "      neu_n_gram = self.n_gram(df_neu)\n",
        "      print('Top ' + str(self.num_reviews) + ' ' + str(review_type) +\n",
        "            ' for ' + str(self.n_grams) + '-grams:\\n')\n",
        "      for x in self.n_gram(df_neu):\n",
        "        print(str(x) + '\\n')\n",
        "      for i in range(self.x_num_grams):\n",
        "        df_neu_n_gram = df_neu[df_neu['text'].str.contains(self.get_tuple_str(neu_n_gram[i][0]))]\n",
        "        top_x_idx = df_neu_n_gram.nlargest(n=self.top_x_rev, columns=['compound_score'])\n",
        "        for m, n in top_x_idx.iterrows():\n",
        "          print('Review #' + str(m + 1) + ' for number ' + str(i+1) + ' ' + str(self.n_grams) + '-grams:\\n')\n",
        "          print(top_x_idx['text'][m] + '\\n')"
      ],
      "metadata": {
        "id": "oaFkNAJGrh18"
      },
      "execution_count": 127,
      "outputs": []
    },
    {
      "cell_type": "code",
      "source": [
        "top_review = top_neg_pos_reviews(num_reviews=10, n_grams=3, x_num_grams=3, top_x_rev=3)\n",
        "top_review.get_reviews(df_b1, review_type='Positive')\n"
      ],
      "metadata": {
        "id": "Qo8ttMxDehk8",
        "colab": {
          "base_uri": "https://localhost:8080/"
        },
        "outputId": "761da67f-31b2-4477-c5e7-e245515f295f"
      },
      "execution_count": 128,
      "outputs": [
        {
          "output_type": "stream",
          "name": "stdout",
          "text": [
            "Top 10 Positive for 3-grams:\n",
            "\n",
            "(('taste', 'new', 'orleans'), 240)\n",
            "\n",
            "(('french', 'onion', 'soup'), 109)\n",
            "\n",
            "(('crab', 'claw', 'appetizer'), 62)\n",
            "\n",
            "(('red', 'beans', 'rice'), 61)\n",
            "\n",
            "(('crab', 'claws', 'appetizer'), 52)\n",
            "\n",
            "(('shrimp', 'po', 'boy'), 50)\n",
            "\n",
            "(('oysters', 'half', 'shell'), 50)\n",
            "\n",
            "(('food', 'great', 'service'), 45)\n",
            "\n",
            "(('time', 'new', 'orleans'), 44)\n",
            "\n",
            "(('ordered', 'taste', 'new'), 42)\n",
            "\n",
            "Review #2825 for number 1 3-grams:\n",
            "\n",
            "This place tastes and serves so well. Can't hate.\n",
            "\n",
            "Although some other reviewers placed this as a tourist trap, I'm actually more than happy to admit I would come here again.\n",
            "\n",
            "Location and setup : It was a little bit of a walk but about 0.1 mi from our hotel. This is a hilarious distance for me but for my parents aged 5x, hungry, and after a long day of exploring the Mississippi River they were a little against walking far. Mom, why did you try to wear heeled sandals? I know it's a trend but they're not going to make you anywhere close to 5' 1\". Anyhow I digress, it's close to the river and close to Canal. Which is great plus it's quiet enough away from bourbon street to talk to your party.\n",
            "\n",
            "Food : We had --\n",
            "\n",
            "Crawfish Etouffee ($14.95) the waiter recommended adding fried crawfish ontop. So we had DOUBLE the amount of crawfish. It was so good, I actually thought it would be like shepherd's pie but the rice soaked the moisture of the sauce. It's good, but if you're not into stew-y food or wet foods you should pick something else. Best way to describe it for me was Arroz con Pollo cept Crawfish instead of chicken.\n",
            "\n",
            "Alligator Poboy ($12.95) alligator meat is sour and salty. Be prepared but my dad actually enjoyed it alot. Then again he loves salt. It tastes like grilled then fried lemon tilapia to me. Tilapia because it's white meat and still has that slight fish taste. It was good plus their seasons (double fried???) french fries were good.\n",
            "\n",
            "Shrimp Poboy ($10.95) Classic is still a goodie. They do it right and affordable. Generous amount of friends and a very fresh bread to tag along. Good stuff!\n",
            "\n",
            "Chargrilled Oysters ($15 for dozen) oh my god, I don't eat oysters but I had to try these. SO GOOD SO SOO GOOD. You must you must! I wish I had a drink to pair with it but since I'm out with the parents we're not allowed to drink. Buzzkill.\n",
            "\n",
            "Banana Foster Cheesecake ($6.95) very pretty and presented well. It was delicious and now I'm hooked on Banana Foster ANYTHING. Thank god I packed skirts and dresses instead of skinny jeans.\n",
            "\n",
            "Love the food, ambiance, live music, spacious seating and great location, but the most important to me regarding an outing with the folks was the service. My waiter was from Los Angeles and moved here and he's a very sharp guy. Speaks a bit of Korean, Japanese (from his time working in Beni Hana), French, and Spanish. He was very nice, quick, polite, and he actually came to our table without food to have a chat with us. My parents forgot about the aches in their feet and the walk or the loud crowds from Bourbon we had to pass, and just cared about the good food, music, and the light conversation.\n",
            "\n",
            "In all, including our lemonades and a single beer plus tip the meal costs us about $90. Not bad at all for a party of 4.\n",
            "\n",
            "Review #792 for number 1 3-grams:\n",
            "\n",
            "I've used Yelp for a long time to decide on food, activities etc., but this is the first time I've left a review. My husband and I are visiting New Orleans for our tenth anniversary and for our first night really wanted a casual but good, Cajun/creole meal. Royal House absolutely did not disappoint. We arrived around 5:30 on a Saturday night and there was a line to get in. We were originally told it would be a twenty minute wait, but it was more like five minutes. We checked in on Yelp and received a free appetizer; hubby chose the fried alligator bites and I chose the crab claws. The alligator bites were good but not mind-blowing. The tarter sauce tasted homemade and was better than a typical tarter sauce. The star of the entire dinner were the crab claws. I cannot begin to describe how unbelievable the sauce was. The crab claws were small and more of a second thought to the bread and sauce! We ended up dipping everything we could in that sauce! I've never tasted anything like it in my life! It is filled with spice but is in no way spicy. For dinner hubby went with blackened shrimp & jambalaya and I chose the crawfish ravioli. The ravioli was definitely good, but I probably would have liked one of their other offerings better. Nothing was wrong with it-it tasted very fresh, and it's very possible that after my amazing appetizer nothing would ever taste good enough again! My hubby's dish was in my opinion much better than mine (so happy we almost always split all food 50/50 when in restaurants!). Shrimp were well cooked, fresh, and they definitely give you a large portion of them. They don't scrimp on the sausage either, and the chicken was white meat and shredded which we liked. The flavor was spot on, and we thoroughly enjoyed all the food we ordered. (Hubby really liked my ravioli). Portions were good for us-we were filled but not stuffed, with no leftovers. \n",
            "As far as service goes, our waiter (I forget his name) was very friendly and helpful regarding the menu, and we got drinks immediately; our appetizers took a little longer than I would have liked, but being as packed as they were I can understand that. Our dinner came out literally as we took our last bite of our appetizer, and he was very quick when it came to bringing the check. I absolutely recommend this place-New Orleans has so many places we want to try but it will be very hard not to go back to the Royal House. Another interesting thing: we were seated upstairs and weddings would go by every 10-15 minutes, and everyone would leave their table to go out on the balcony to cheer on the couple. Definitely a great casual vibe. I only gave it 4 stars because it was our first dinner here; I may change it to five after we sample more of what NOLA has to offer!\n",
            "\n",
            "Review #98 for number 1 3-grams:\n",
            "\n",
            "It's only been about 12 hours but I'm dying to return. The food was amazing, the service was great and I loved the atmosphere of the place! \n",
            "\n",
            "We were seated immediately around noon in the surprisingly empty restaurant and were overwhelmed with the menu. The waiter helped us through it and told us some of the most popular dishes (all of which were brought up in reviews on Yelp already). We ended up getting the Crab Claws, the Chargrilled Oysters, the Royale Oysters and the Taste of New Orleans paired with two Sam Adams. \n",
            "\n",
            "The oysters were probably the best I've ever had. They were super fresh and seasoned amazingly. At first I thought the chargrilled oysters were too much because of the amount of sauce/cheese but I scooped some of it off and it was PERFECT. The Royale oysters were cooked to perfection and went reallyw well with the seafood topping. I highly recommend pairing these with beers because we really enjoyed it.\n",
            "\n",
            "The crab claws came out next and despite the rave reviews it got on Yelp, I wasn't impressed. It was barely warm enough and bland compared to the rest of the food. By itself the flavor wasn't bad but it just paled in comparison. We also didn't think it was that fresh because it didn't seem warm enough and it was in that awkward maybe-it's-supposed-to-be-crispy-or-maybe-not phase. \n",
            "\n",
            "The taste of New Orleans was above average in my eyes. I LOVED the crawfish étouffée and kinda wished I got that by itself. The jambalaya was also good with nice flavors but a little dry. And finally the gumbo wasn't bad. I liked it but it wasn't mind-blowing. This dish would probably get a 3.5/5 for me. \n",
            "\n",
            "However, the service was awesome and the oysters made the trip worth it. I would definitely recommend coming here!!\n",
            "\n",
            "Update: we couldn't stop talking about the oysters and ended up coming back the next day for more!! \n",
            "\n",
            "We got the Rockefeller oysters and the second grilled oysters (forgot the name - starts with an M?) Just as good as we remembered. Each oyster has its own unique flavor and seasoning but they're all cooked to perfection. \n",
            "\n",
            "If I could, I would just come here for the oysters. Super tasty!\n",
            "\n",
            "Review #2825 for number 2 3-grams:\n",
            "\n",
            "This place tastes and serves so well. Can't hate.\n",
            "\n",
            "Although some other reviewers placed this as a tourist trap, I'm actually more than happy to admit I would come here again.\n",
            "\n",
            "Location and setup : It was a little bit of a walk but about 0.1 mi from our hotel. This is a hilarious distance for me but for my parents aged 5x, hungry, and after a long day of exploring the Mississippi River they were a little against walking far. Mom, why did you try to wear heeled sandals? I know it's a trend but they're not going to make you anywhere close to 5' 1\". Anyhow I digress, it's close to the river and close to Canal. Which is great plus it's quiet enough away from bourbon street to talk to your party.\n",
            "\n",
            "Food : We had --\n",
            "\n",
            "Crawfish Etouffee ($14.95) the waiter recommended adding fried crawfish ontop. So we had DOUBLE the amount of crawfish. It was so good, I actually thought it would be like shepherd's pie but the rice soaked the moisture of the sauce. It's good, but if you're not into stew-y food or wet foods you should pick something else. Best way to describe it for me was Arroz con Pollo cept Crawfish instead of chicken.\n",
            "\n",
            "Alligator Poboy ($12.95) alligator meat is sour and salty. Be prepared but my dad actually enjoyed it alot. Then again he loves salt. It tastes like grilled then fried lemon tilapia to me. Tilapia because it's white meat and still has that slight fish taste. It was good plus their seasons (double fried???) french fries were good.\n",
            "\n",
            "Shrimp Poboy ($10.95) Classic is still a goodie. They do it right and affordable. Generous amount of friends and a very fresh bread to tag along. Good stuff!\n",
            "\n",
            "Chargrilled Oysters ($15 for dozen) oh my god, I don't eat oysters but I had to try these. SO GOOD SO SOO GOOD. You must you must! I wish I had a drink to pair with it but since I'm out with the parents we're not allowed to drink. Buzzkill.\n",
            "\n",
            "Banana Foster Cheesecake ($6.95) very pretty and presented well. It was delicious and now I'm hooked on Banana Foster ANYTHING. Thank god I packed skirts and dresses instead of skinny jeans.\n",
            "\n",
            "Love the food, ambiance, live music, spacious seating and great location, but the most important to me regarding an outing with the folks was the service. My waiter was from Los Angeles and moved here and he's a very sharp guy. Speaks a bit of Korean, Japanese (from his time working in Beni Hana), French, and Spanish. He was very nice, quick, polite, and he actually came to our table without food to have a chat with us. My parents forgot about the aches in their feet and the walk or the loud crowds from Bourbon we had to pass, and just cared about the good food, music, and the light conversation.\n",
            "\n",
            "In all, including our lemonades and a single beer plus tip the meal costs us about $90. Not bad at all for a party of 4.\n",
            "\n",
            "Review #2436 for number 2 3-grams:\n",
            "\n",
            "Came here twice during my visit to NOLA. First time was on a Saturday night about 10:30pm. We were sat right away down stairs. It was lively and full. \n",
            "\n",
            "My friend had the chargrilled oysters. I myself am not a seafood fan but I tried one. They weren't fishy at all and the flavor of the bread crumbs, garlic and butter was really good. My friend did say they were on the small side but delicious. \n",
            "\n",
            "I had the French onion soup, which our waitress claimed was 'the best in the entire city', as well as some hush puppies. The soup was absolutely wonderful. It was rich and not too salty, as the can often be. The cheese and bread baked on top broke up nicely as I ate it so I was left with a giant bread and cheese ball. The hush puppies were average. \n",
            "\n",
            "The second visit was on a Tuesday afternoon. We couldn't sit on the balcony because those tables only seat two and this trip there were three of us. \n",
            "However we were able to sit next to the open doors of the balcony and still enjoy the lovely weather and view. \n",
            "\n",
            "We had a couple cocktails that were both good. I ordered the roast beef po-boy. It was average. Not very flavorful compared to most of the food I'd been eating the entire trip. My friend had the shrimp po-boy and was also disappointed. She was expecting some sauce or more flavor as well to what she was eating. My other friend had the french onion soup and of course loved it. We finished with bread pudding that was actually very tasty and rich. \n",
            "\n",
            "The walk up stairs is narrow and definitely feels like and old home or building. Complete with the unevenness that makes some a bit nervous. But the decor makes it worth the climb. I loved the look and would have enjoyed sitting there all afternoon. I would go back next time I'm in town.\n",
            "\n",
            "Review #2614 for number 2 3-grams:\n",
            "\n",
            "Sure wish we had more time to try some of the other menu selections here at Royal House because the breakfast was amazing! From the moment we walked in we felt welcomed and comfortable!  The hostess was friendly, down to earth with a great sense of humor and professional customer service skills!\n",
            "\n",
            "We came for breakfast and sat on the balcony upstairs. At first we felt a little tipsy and a bit awkward but after settling in for a minute or two we didn't notice the slant at all! We had just arrived in New Orleans the night before and celebrated a bit too much so we weren't too adventurous in the culinary department! I had the Southerner and hubby had the Eggs Benedict, both pretty simple selections and both were outstanding!! Probably some of the absolute best gravy I've ever had with a very light biscuit and eggs cooked perfectly. Hubby didn't need extra Hollandaise or lemon which is probably a first! We shared a side of bacon and it was nice a crispy just like we both like it! \n",
            "\n",
            "Our service was spot on as well!  Very efficient and friendly yet super classy and professional. She kept waters full, delivered the food piping hot and had a smile every time we saw her.\n",
            "\n",
            "The only reason I'm giving a 4 star review and not a 5 star is because they don't have any \"sweet\" offering on the breakfast menu. We usually like something such as a sweet roll or french toast to balance everything out so we were just a tiny bit disappointed when we found out they had nothing to offer.\n",
            "\n",
            "The Royal House gave us the royal treatment for breakfast and we'll definitely be back next time!\n",
            "\n",
            "Review #792 for number 3 3-grams:\n",
            "\n",
            "I've used Yelp for a long time to decide on food, activities etc., but this is the first time I've left a review. My husband and I are visiting New Orleans for our tenth anniversary and for our first night really wanted a casual but good, Cajun/creole meal. Royal House absolutely did not disappoint. We arrived around 5:30 on a Saturday night and there was a line to get in. We were originally told it would be a twenty minute wait, but it was more like five minutes. We checked in on Yelp and received a free appetizer; hubby chose the fried alligator bites and I chose the crab claws. The alligator bites were good but not mind-blowing. The tarter sauce tasted homemade and was better than a typical tarter sauce. The star of the entire dinner were the crab claws. I cannot begin to describe how unbelievable the sauce was. The crab claws were small and more of a second thought to the bread and sauce! We ended up dipping everything we could in that sauce! I've never tasted anything like it in my life! It is filled with spice but is in no way spicy. For dinner hubby went with blackened shrimp & jambalaya and I chose the crawfish ravioli. The ravioli was definitely good, but I probably would have liked one of their other offerings better. Nothing was wrong with it-it tasted very fresh, and it's very possible that after my amazing appetizer nothing would ever taste good enough again! My hubby's dish was in my opinion much better than mine (so happy we almost always split all food 50/50 when in restaurants!). Shrimp were well cooked, fresh, and they definitely give you a large portion of them. They don't scrimp on the sausage either, and the chicken was white meat and shredded which we liked. The flavor was spot on, and we thoroughly enjoyed all the food we ordered. (Hubby really liked my ravioli). Portions were good for us-we were filled but not stuffed, with no leftovers. \n",
            "As far as service goes, our waiter (I forget his name) was very friendly and helpful regarding the menu, and we got drinks immediately; our appetizers took a little longer than I would have liked, but being as packed as they were I can understand that. Our dinner came out literally as we took our last bite of our appetizer, and he was very quick when it came to bringing the check. I absolutely recommend this place-New Orleans has so many places we want to try but it will be very hard not to go back to the Royal House. Another interesting thing: we were seated upstairs and weddings would go by every 10-15 minutes, and everyone would leave their table to go out on the balcony to cheer on the couple. Definitely a great casual vibe. I only gave it 4 stars because it was our first dinner here; I may change it to five after we sample more of what NOLA has to offer!\n",
            "\n",
            "Review #98 for number 3 3-grams:\n",
            "\n",
            "It's only been about 12 hours but I'm dying to return. The food was amazing, the service was great and I loved the atmosphere of the place! \n",
            "\n",
            "We were seated immediately around noon in the surprisingly empty restaurant and were overwhelmed with the menu. The waiter helped us through it and told us some of the most popular dishes (all of which were brought up in reviews on Yelp already). We ended up getting the Crab Claws, the Chargrilled Oysters, the Royale Oysters and the Taste of New Orleans paired with two Sam Adams. \n",
            "\n",
            "The oysters were probably the best I've ever had. They were super fresh and seasoned amazingly. At first I thought the chargrilled oysters were too much because of the amount of sauce/cheese but I scooped some of it off and it was PERFECT. The Royale oysters were cooked to perfection and went reallyw well with the seafood topping. I highly recommend pairing these with beers because we really enjoyed it.\n",
            "\n",
            "The crab claws came out next and despite the rave reviews it got on Yelp, I wasn't impressed. It was barely warm enough and bland compared to the rest of the food. By itself the flavor wasn't bad but it just paled in comparison. We also didn't think it was that fresh because it didn't seem warm enough and it was in that awkward maybe-it's-supposed-to-be-crispy-or-maybe-not phase. \n",
            "\n",
            "The taste of New Orleans was above average in my eyes. I LOVED the crawfish étouffée and kinda wished I got that by itself. The jambalaya was also good with nice flavors but a little dry. And finally the gumbo wasn't bad. I liked it but it wasn't mind-blowing. This dish would probably get a 3.5/5 for me. \n",
            "\n",
            "However, the service was awesome and the oysters made the trip worth it. I would definitely recommend coming here!!\n",
            "\n",
            "Update: we couldn't stop talking about the oysters and ended up coming back the next day for more!! \n",
            "\n",
            "We got the Rockefeller oysters and the second grilled oysters (forgot the name - starts with an M?) Just as good as we remembered. Each oyster has its own unique flavor and seasoning but they're all cooked to perfection. \n",
            "\n",
            "If I could, I would just come here for the oysters. Super tasty!\n",
            "\n",
            "Review #2890 for number 3 3-grams:\n",
            "\n",
            "I see mixed reviews for the Royal House, but for my family and I, we were quite happy with our visit here.  We came on a weekday thinking the lines wouldn't be bad, but we did have to wait considering our large party.  No big deal since there is always something to see out in the streets of the French Quarter.  The architecture and history all around is a sight to see!  When we were finally seated, we were greeted by our very awesome waiter.  Our service from start to finish was top notch as well.  \n",
            "\n",
            "We checked in on Yelp, so were were able to redeem a free appetizer. I wanted to stick with some good ole Cajun food, so Fried Alligator it was!  It was seasoned and cooked to perfection.  It had a slight heat like I would expect out of this dish.  For my entree, I decided on the crawfish etouffee.  It was tasty and filling, but I have had better.  Now the table favorite which my daughter ordered was the pecan crusted mahi mahi.  It was pan seared, but with the pecan crust, it had a nice deep fried crust to it.  The lemon butter sauce topped on the fish was outstanding.  It really made the dish.  She ordered garlic mashed potatoes and hush puppies on the side which were both tasty.  My wife's redfish was delicious as well.  It was blackened just right and the taste was great.  For dessert, if there is bread pudding on the menu, I'm getting it, full or not!  What made this bread pudding stand apart from others is that there was peaches baked into it.  It was a nice touch and a pleasant change from just raisins.  The sauce on top was a frangelico sauce which is essentially a hazelnut topping.  Delicious I tell ya!\n",
            "\n",
            "Overall, I can see why this is a local favorite.  With thousands of reviews and high ratings, the ratings are well deserved!\n",
            "\n"
          ]
        }
      ]
    },
    {
      "cell_type": "code",
      "source": [
        "# Trying on negative reviews\n",
        "top_review.get_reviews(df_b1, review_type='Negative')"
      ],
      "metadata": {
        "colab": {
          "base_uri": "https://localhost:8080/"
        },
        "id": "PDH0ryz8qk__",
        "outputId": "ae5079c2-e9bf-403d-cb8c-57fdbc1721d6"
      },
      "execution_count": 129,
      "outputs": [
        {
          "output_type": "stream",
          "name": "stdout",
          "text": [
            "Top 10 Negative for 3-grams:\n",
            "\n",
            "(('taste', 'new', 'orleans'), 73)\n",
            "\n",
            "(('french', 'onion', 'soup'), 49)\n",
            "\n",
            "(('shrimp', 'po', 'boy'), 28)\n",
            "\n",
            "(('would', 'come', 'back'), 17)\n",
            "\n",
            "(('blackened', 'shrimp', 'jambalaya'), 17)\n",
            "\n",
            "(('new', 'orleans', 'sampler'), 15)\n",
            "\n",
            "(('ordered', 'taste', 'new'), 15)\n",
            "\n",
            "(('red', 'beans', 'rice'), 13)\n",
            "\n",
            "(('ordered', 'shrimp', 'grits'), 11)\n",
            "\n",
            "(('get', 'free', 'appetizer'), 11)\n",
            "\n",
            "Review #407 for number 1 3-grams:\n",
            "\n",
            "Enjoyable experience. Had to wait a bit to be seated - even at 9:30pm on a Sunday. Just walk halfway down the street and grab a drink from the lil beer and frozen drink stand and time will go a little faster while standing in line.\n",
            "\n",
            "They sent us to be seated upstairs on the balcony. After reading y'all's reviews I was hoping for just that. The seating process seemed a bit disorganized but the upstairs hostess was nice. Place was packed. Our server (Diego maybe?) was great. Friendly and knew his menu. The bf had one of the best bloodies I have ever tried. I almost got my own but just couldn't do it after the whirlwind of travel - I was already delirious and also dehydrated - but I regret not ordering one myself. Wish I had one now. It came garnished with a pickled green bean, celery, olive and onion. So good.\n",
            "\n",
            "Everything is a little slow going.\n",
            "Drinks came slow, apps came really slow - like maybe 40 minutes, but Diego came to keep us updated. I get it - in a place like that the kitchen gets backed up sometimes. Despite our hunger we were really enjoying the night air and some good music as there were two ladies playing on the corner below - A violinist and guitar player. It was like having a free show. \n",
            "\n",
            "For apps we had the spinach dip and the Crab Louis Salad. Dip was ok. Came with what seemed to be house made tortilla chips. The portion was a bit small. The salad was good. It sounds a little strange, kind of a weird combination of things but it works. The dressing was really good too and they gave just the perfect amount. \n",
            "\n",
            "For our mains my boyfriend had the taste of New Orleans which consists of Gumbo, jumbalaya, & étouffée. Neither one of us are big seafood eaters so he was taking a chance here. He liked the jumbalaya and loved the étouffée, but thought the gumbo had a strange flavor. He described it as tasting of vodka. Who knows? It's New Orleans, maybe it is made with vodka and maybe it's supposed to be. I tried it and tasted vodka as well but it was also reminiscent of something else and had a smokiness to it.\n",
            "\n",
            "I decided to be a weirdo and order a shit ton of sides as my main course. When I was looking at the menu on yelp it had all of these things listed under Lagniappe...stupid me I thought it was like a combination plate which I felt was perfect because I'm a glutton and usually want one of everything. So I had my heart set on that only to get there and realize that this was a list of the available side dishes. Since I had my heart set on it already I ordered the red potatoes; the slaw; the corn maque choux; the jumbalaya; and hush puppies.\n",
            "\n",
            "Everything was really good. The hush puppies were the best I've ever had. Slaw was good but different from any I've ever had. It is made with apples and I also tasted some cinnamon in there. It was good but a little sweet for my taste. This was my first time ever trying jumbalaya. It was delicious. Also my first time having maque choux. The corn was a little over cooked but I liked this dish as well. Kind of like a combination of corn and New England clam chowder cuz it definitely had a seafood flavor in there. My favorite thing was the red potatoes. Swimming in butter, garlic and Parmesan cheese. Flavor got a bit intense as I got to the bottom where all the sauce collected. Not healthy in the slightest but oh very delish.\n",
            "\n",
            "I heard a server tell the table next to us that they sold out of the banana foster cheesecake. I was pretty bummed because I had my heart set on that. Oh well I'm developing a tire around my waist on this trip anyway. \n",
            "\n",
            "All in all it was a great nite but I've deducted stars for the cleanliness factor, or lack thereof...\n",
            "I know this spot sees crazy volume but the carpets and walls were gross, as well as the bathroom. Replace that stairway carpet with some tile and get someone on bathroom duty. The dingy-ness made me wonder how clean /not clean the kitchen was....\n",
            "\n",
            "Review #472 for number 1 3-grams:\n",
            "\n",
            "Ahh! I really want to give them 4 stars, but my food wasn't even hot!! And the whole ambiance was just eek...\n",
            "\n",
            "- - s e r v i c e - -\n",
            "I walked/drove by here several times throughout my stay in New Orleans and there was ALWAYS a line outside. Don't be driven away by this, they go through the line pretty quickly. Just make sure you put your name on the list at the front before getting in line. It was only about a 20 minute wait so not bad at all! Once we were seated we were greeted with the most upbeat and happy waitress (oops I forgot her name...sorry!) But she was great! Super attentive and friendly! Loved it!!\n",
            "\n",
            "- - a m b i a n c e - -\n",
            "How do they keep their line moving? Well that's cause this place is PACKED. Seats are back to back, not the most spacious setting. Also since the restaurant has multiple windows that stay open to the outdoors, you get that humidity from outside. Lastly it wasn't the cleaniest or freshest smelling restaurant. So overall with the crowdedness, humidity, and dirty smell...ehhh not my favorite environment.\n",
            "\n",
            "- - f o o d - - \n",
            "Overall, the food was mediocore and prices were ehh a bit on the steep side for what I got...\n",
            "\n",
            "[ [ fried alligator ] \n",
            "FREE WITH CHECK-IN! Well you can get any appetizer, but I mean when else would I be able to try alligator (you usually don't see this in California). This was good! I didn't know what to expect...so they tasted like popcorn chicken bits...not bad!\n",
            "\n",
            "[ [ raw oysters ] ]\n",
            "Good! These weren't the best oysters I've had but they weren't bad! Size wise, they were pretty small. But they fresh so you didn't get too much of that raw fishy taste. \n",
            "\n",
            "[ [ blackened shrimp & jambalaya ] ]\n",
            "This was sooooooo good!! They are generous with the shrimp....packed with flavor (for both the shrimp and jambalaya). I really wanted to get some authentic NOLA food and yumm this was it! The jambalya was absolutely delicious! The shrimp and jambalya complemented each other great and I really liked it! I would've loved it but ughh my food came out on the cool-warm side! Why?!\n",
            "\n",
            "[[ crawfish etouffee ] ]\n",
            "Again, I loved the flavor and everything but it was cold! The gravy was great and again it came with lots of fried crawfish tails. You definitely want to eat this fast before it gets all soggy! \n",
            "\n",
            "Overall...I'm just torn. I loved the food, but it was cold which is so depressing. Ambiance was also just not for me, but great service. This was recommended to me by many locals so it was definitely worth the try.\n",
            "\n",
            "Review #640 for number 1 3-grams:\n",
            "\n",
            "Overall food was okay but not worth the price. Experiment overall was less than I expected. \n",
            "\n",
            "So I usually look a place, if it's less that 4 stars I'm probably not going there for dinner. If it's 4 stars I'll give it shot. And if my experience was less than what I would expect I rate it lower and if it's better I rate it higher.\n",
            "\n",
            "So my wife and I got to this place pretty late probably 9:30. The hostess quoted us for 15 mins so we waited. After about 10 she asked if we would mind sitting at the bar. My wife doesn't really drink so the bar isn't usually our go to for dining but since it was getting late, we went for it. Usually at a bar service is quicker since the bartender is right there and isn't hopping around to tables. The bartender immediately asks for our IDs but wasn't very courteous about it, he said it almost like he didn't think we were of drinking age and he expected that he would turn us away. We both are of age but we look younger so I wasn't surprised he asked just was expecting a little southern charm in the Big Easy and never really got that. On that same note, a guy and his son later sat down at the bar, the rest of their family, 4 women sat behind them, in assuming because they couldn't seat them all together. And the guy gave them the same speil about \"having a valid ID\" which the kid who was probably 13 clearly didn't... then the bartender went on to explain that you have to be over 21 to sit at the bar. I'm not from LA but I'm pretty sure that, that is not the law and I know most states have exceptions for consuming alcohol if you are with a parent/guardian anyway. Doesn't really matter I guess the restaurant can do whatever they want but the bartender later complained to other patrons about how people should have their IDs. \n",
            "\n",
            "The bartender was also shucking oysters when the entire time we were there. Typically that's something done in the kitchen or at least at a back work station. Sounds petty, I don't have an aversion to it and it didn't ruin my meal but if your going to charge 20 dollars for shrimp and grits that I could have made in my microwave and 12 for a cocktail, don't shuck your oysters at the bar and then barely wash your hands before you handle everything that you touch. Also my wife ordered a coke when I ordered my cocktail, again we are at the bar, I could have reached over and sprayed the damn thing into a glass myself if there was a glass close enough, but I had to ask the guy a second time to get her what she already ordered, this is after they had to outsource my drink. I pretty sure the guy said at one point, \"we are waiting on the whiskey\", which I was confused about what that meant. Either way he definitely didn't make it, I think the other bartender did, and that way about 10 mins after I ordered it. \n",
            "\n",
            "Spinach dip was good but that's pretty simple honestly and hard to mess up. The shrimp and grits weren't bad as far as taste. I live along the gulf coast and I've had my share of shrimp and grits, so I was expecting large sized fresh shrimp but instead it seemed like frozen ones out of a bag tossed in sauce over 3 scoops of grits. And yes I could tell that they were scooped out of a larger dish; they were like 3 little mounds of grits. I don't think they were cheese grits either. Also the bowl that it came in was hotter than the actual meal, so they obviously warmed it up. Again it was edible but certainly not worth 20 dollars. \n",
            "\n",
            "I think a lot of places in New Orleans rely on tourism and overprice their items accordingly. This is definitely one of those places.\n",
            "\n",
            "Review #407 for number 2 3-grams:\n",
            "\n",
            "Enjoyable experience. Had to wait a bit to be seated - even at 9:30pm on a Sunday. Just walk halfway down the street and grab a drink from the lil beer and frozen drink stand and time will go a little faster while standing in line.\n",
            "\n",
            "They sent us to be seated upstairs on the balcony. After reading y'all's reviews I was hoping for just that. The seating process seemed a bit disorganized but the upstairs hostess was nice. Place was packed. Our server (Diego maybe?) was great. Friendly and knew his menu. The bf had one of the best bloodies I have ever tried. I almost got my own but just couldn't do it after the whirlwind of travel - I was already delirious and also dehydrated - but I regret not ordering one myself. Wish I had one now. It came garnished with a pickled green bean, celery, olive and onion. So good.\n",
            "\n",
            "Everything is a little slow going.\n",
            "Drinks came slow, apps came really slow - like maybe 40 minutes, but Diego came to keep us updated. I get it - in a place like that the kitchen gets backed up sometimes. Despite our hunger we were really enjoying the night air and some good music as there were two ladies playing on the corner below - A violinist and guitar player. It was like having a free show. \n",
            "\n",
            "For apps we had the spinach dip and the Crab Louis Salad. Dip was ok. Came with what seemed to be house made tortilla chips. The portion was a bit small. The salad was good. It sounds a little strange, kind of a weird combination of things but it works. The dressing was really good too and they gave just the perfect amount. \n",
            "\n",
            "For our mains my boyfriend had the taste of New Orleans which consists of Gumbo, jumbalaya, & étouffée. Neither one of us are big seafood eaters so he was taking a chance here. He liked the jumbalaya and loved the étouffée, but thought the gumbo had a strange flavor. He described it as tasting of vodka. Who knows? It's New Orleans, maybe it is made with vodka and maybe it's supposed to be. I tried it and tasted vodka as well but it was also reminiscent of something else and had a smokiness to it.\n",
            "\n",
            "I decided to be a weirdo and order a shit ton of sides as my main course. When I was looking at the menu on yelp it had all of these things listed under Lagniappe...stupid me I thought it was like a combination plate which I felt was perfect because I'm a glutton and usually want one of everything. So I had my heart set on that only to get there and realize that this was a list of the available side dishes. Since I had my heart set on it already I ordered the red potatoes; the slaw; the corn maque choux; the jumbalaya; and hush puppies.\n",
            "\n",
            "Everything was really good. The hush puppies were the best I've ever had. Slaw was good but different from any I've ever had. It is made with apples and I also tasted some cinnamon in there. It was good but a little sweet for my taste. This was my first time ever trying jumbalaya. It was delicious. Also my first time having maque choux. The corn was a little over cooked but I liked this dish as well. Kind of like a combination of corn and New England clam chowder cuz it definitely had a seafood flavor in there. My favorite thing was the red potatoes. Swimming in butter, garlic and Parmesan cheese. Flavor got a bit intense as I got to the bottom where all the sauce collected. Not healthy in the slightest but oh very delish.\n",
            "\n",
            "I heard a server tell the table next to us that they sold out of the banana foster cheesecake. I was pretty bummed because I had my heart set on that. Oh well I'm developing a tire around my waist on this trip anyway. \n",
            "\n",
            "All in all it was a great nite but I've deducted stars for the cleanliness factor, or lack thereof...\n",
            "I know this spot sees crazy volume but the carpets and walls were gross, as well as the bathroom. Replace that stairway carpet with some tile and get someone on bathroom duty. The dingy-ness made me wonder how clean /not clean the kitchen was....\n",
            "\n",
            "Review #18 for number 2 3-grams:\n",
            "\n",
            "Great customer service for a large group, but salty salty salty food! Maybe it's the \"Cajun/Creole\" way but everything was soooo salty. It wasn't bad, but only if they didn't use that extra spoon of salt! \n",
            "\n",
            "We were a big group and got things to share:\n",
            "-Fried Alligator: I hated the thought of eating an alligator, but the fried alligator wasn't so bad! It kind of tasted like chicken, you must try this! I wish they gave us more. It wasn't too salty but could use less...\n",
            "-Spinach Dip: Nothing fancy, the name says it all!\n",
            "-Crab claws: I really thought we were going to get \"crab claws\" instead it seems more of a soup. The dipping sauce was overwhelming and engulfs the crab claws. Extremely salty dipping sauce.\n",
            "-Seafood Pescatore: Very spicy! A great spicy kick to it, everything else was salty, but seafood was fresh\n",
            "-Baked Shrimp Tortellini: The saltiest dish ever. Don't know why the tortellinis were so salty. The shrimp in it was good, tasted very gritty. \n",
            "-Blackened Shrimp & Jambalaya: Wasn't too salty, but could use less. Shrimp was excellent and a good jambalaya, not as \"juicy\" as I would like but overall a decent dish\n",
            "-Royal House Burger: The name says it all... it wasn't too bad for a Cajun/Creole place!\n",
            "\n",
            "Over server was super cool and told us to always check the bill here because places add on extra charges (like gratuity) and not tell you around Mardi Gras. Also you get the \"Mardi Gras Menu\" aka the overly priced food because they can. I've eaten Cajun food in Cali (but not from the source-NOLA) but in Cali it's not salty like the Cajun here...so maybe it's a regional thing, but all the food was just too salty for us. Should have gotten their oysters!\n",
            "\n",
            "Review #725 for number 2 3-grams:\n",
            "\n",
            "The food at Royal House was very good. We had the Oysters Rockefeller and the Redfish Beignet as an appetizer. I was a little skeptical about the red fish beignet but it was really awesome. There was a sweet sauce that went nicely with the flaky fish and surprisingly the powdered sugar was a nice touch too. The Oysters Rockefeller was good, but I couldn't taste the Sambuca at all.  We shared a French Onion soup which was also quite nice and then had the crab leg boil for our entree.  \n",
            "\n",
            "Where the drop in the rating comes is from our service. Our waiter was a bit distracted which started with our drinks that he completely forgot. Not a big deal... But when our entree came we only had one.  He actually told us that he ASSUMED that since we were sharing other things, that we were sharing our entree.  The other things were appetizers which are typically shared - entrees are not.  We ended up sharing one entree and completely finishing it before the second entree came out.  When we asked for desert to go - neither one of us was in the mood to be there any longer - the server left in the middle of the order to go help others. When my husband flagged him down to give him to order and get the check, he left again saying he would come back to \"tell us about something spectacular.\"  When he finally came back to tell us about some other desert which was different than what we ordered, I was really just done. \n",
            "\n",
            "To the credit of the Royal House, I think it was really just our server. He seemed to think he was the star of the show. The other servers appeared to be on it and although the kitchen was a little slow at a very busy time (nothing out of the ordinary), I think our guy detracted from what would have otherwise been a good meal.\n",
            "\n",
            "Review #407 for number 3 3-grams:\n",
            "\n",
            "Enjoyable experience. Had to wait a bit to be seated - even at 9:30pm on a Sunday. Just walk halfway down the street and grab a drink from the lil beer and frozen drink stand and time will go a little faster while standing in line.\n",
            "\n",
            "They sent us to be seated upstairs on the balcony. After reading y'all's reviews I was hoping for just that. The seating process seemed a bit disorganized but the upstairs hostess was nice. Place was packed. Our server (Diego maybe?) was great. Friendly and knew his menu. The bf had one of the best bloodies I have ever tried. I almost got my own but just couldn't do it after the whirlwind of travel - I was already delirious and also dehydrated - but I regret not ordering one myself. Wish I had one now. It came garnished with a pickled green bean, celery, olive and onion. So good.\n",
            "\n",
            "Everything is a little slow going.\n",
            "Drinks came slow, apps came really slow - like maybe 40 minutes, but Diego came to keep us updated. I get it - in a place like that the kitchen gets backed up sometimes. Despite our hunger we were really enjoying the night air and some good music as there were two ladies playing on the corner below - A violinist and guitar player. It was like having a free show. \n",
            "\n",
            "For apps we had the spinach dip and the Crab Louis Salad. Dip was ok. Came with what seemed to be house made tortilla chips. The portion was a bit small. The salad was good. It sounds a little strange, kind of a weird combination of things but it works. The dressing was really good too and they gave just the perfect amount. \n",
            "\n",
            "For our mains my boyfriend had the taste of New Orleans which consists of Gumbo, jumbalaya, & étouffée. Neither one of us are big seafood eaters so he was taking a chance here. He liked the jumbalaya and loved the étouffée, but thought the gumbo had a strange flavor. He described it as tasting of vodka. Who knows? It's New Orleans, maybe it is made with vodka and maybe it's supposed to be. I tried it and tasted vodka as well but it was also reminiscent of something else and had a smokiness to it.\n",
            "\n",
            "I decided to be a weirdo and order a shit ton of sides as my main course. When I was looking at the menu on yelp it had all of these things listed under Lagniappe...stupid me I thought it was like a combination plate which I felt was perfect because I'm a glutton and usually want one of everything. So I had my heart set on that only to get there and realize that this was a list of the available side dishes. Since I had my heart set on it already I ordered the red potatoes; the slaw; the corn maque choux; the jumbalaya; and hush puppies.\n",
            "\n",
            "Everything was really good. The hush puppies were the best I've ever had. Slaw was good but different from any I've ever had. It is made with apples and I also tasted some cinnamon in there. It was good but a little sweet for my taste. This was my first time ever trying jumbalaya. It was delicious. Also my first time having maque choux. The corn was a little over cooked but I liked this dish as well. Kind of like a combination of corn and New England clam chowder cuz it definitely had a seafood flavor in there. My favorite thing was the red potatoes. Swimming in butter, garlic and Parmesan cheese. Flavor got a bit intense as I got to the bottom where all the sauce collected. Not healthy in the slightest but oh very delish.\n",
            "\n",
            "I heard a server tell the table next to us that they sold out of the banana foster cheesecake. I was pretty bummed because I had my heart set on that. Oh well I'm developing a tire around my waist on this trip anyway. \n",
            "\n",
            "All in all it was a great nite but I've deducted stars for the cleanliness factor, or lack thereof...\n",
            "I know this spot sees crazy volume but the carpets and walls were gross, as well as the bathroom. Replace that stairway carpet with some tile and get someone on bathroom duty. The dingy-ness made me wonder how clean /not clean the kitchen was....\n",
            "\n",
            "Review #472 for number 3 3-grams:\n",
            "\n",
            "Ahh! I really want to give them 4 stars, but my food wasn't even hot!! And the whole ambiance was just eek...\n",
            "\n",
            "- - s e r v i c e - -\n",
            "I walked/drove by here several times throughout my stay in New Orleans and there was ALWAYS a line outside. Don't be driven away by this, they go through the line pretty quickly. Just make sure you put your name on the list at the front before getting in line. It was only about a 20 minute wait so not bad at all! Once we were seated we were greeted with the most upbeat and happy waitress (oops I forgot her name...sorry!) But she was great! Super attentive and friendly! Loved it!!\n",
            "\n",
            "- - a m b i a n c e - -\n",
            "How do they keep their line moving? Well that's cause this place is PACKED. Seats are back to back, not the most spacious setting. Also since the restaurant has multiple windows that stay open to the outdoors, you get that humidity from outside. Lastly it wasn't the cleaniest or freshest smelling restaurant. So overall with the crowdedness, humidity, and dirty smell...ehhh not my favorite environment.\n",
            "\n",
            "- - f o o d - - \n",
            "Overall, the food was mediocore and prices were ehh a bit on the steep side for what I got...\n",
            "\n",
            "[ [ fried alligator ] \n",
            "FREE WITH CHECK-IN! Well you can get any appetizer, but I mean when else would I be able to try alligator (you usually don't see this in California). This was good! I didn't know what to expect...so they tasted like popcorn chicken bits...not bad!\n",
            "\n",
            "[ [ raw oysters ] ]\n",
            "Good! These weren't the best oysters I've had but they weren't bad! Size wise, they were pretty small. But they fresh so you didn't get too much of that raw fishy taste. \n",
            "\n",
            "[ [ blackened shrimp & jambalaya ] ]\n",
            "This was sooooooo good!! They are generous with the shrimp....packed with flavor (for both the shrimp and jambalaya). I really wanted to get some authentic NOLA food and yumm this was it! The jambalya was absolutely delicious! The shrimp and jambalya complemented each other great and I really liked it! I would've loved it but ughh my food came out on the cool-warm side! Why?!\n",
            "\n",
            "[[ crawfish etouffee ] ]\n",
            "Again, I loved the flavor and everything but it was cold! The gravy was great and again it came with lots of fried crawfish tails. You definitely want to eat this fast before it gets all soggy! \n",
            "\n",
            "Overall...I'm just torn. I loved the food, but it was cold which is so depressing. Ambiance was also just not for me, but great service. This was recommended to me by many locals so it was definitely worth the try.\n",
            "\n",
            "Review #851 for number 3 3-grams:\n",
            "\n",
            "Decent food that's tasty but definitely not for a palate of a foodie....\n",
            "\n",
            "My boss and I were trying to get into NOLA but they were fully committed so I looked up my BFF Yelp and we were close to the Royal house.\n",
            "\n",
            "We waited about 20 min on a Friday night, not too bad.\n",
            "\n",
            "Our server was beyond fantastic I'm pretty sure her name was Tina, if I'm wrong (she has a thick NOLA accent, been serving seafood for 15 years but doesn't eat it and loves fried Alligator). \n",
            "\n",
            "Appetizer\n",
            "We ordered the Fried Alligator it was my Bosses first time having it and it was super good. Papadeaux makes a better Fried Alligator it's less chewy but all in all it was good.\n",
            "\n",
            "Cocktails\n",
            "I had a Hurricane which was way too sweet, \n",
            "Zatarains at the New Orleans Airport is way stronger and will set you right!\n",
            "\n",
            "My boss had a manhattan which was super good and strong!\n",
            "\n",
            "Entrees\n",
            "I had my waitress decide for us:\n",
            "\n",
            "Boss\n",
            "Roast beef Po Boy-Very Dry, cold and needed more jus.\n",
            "\n",
            "I had the Pecan Crusted Fish-Cooked perfectly, very moist but the sauce on top lacked flavor and could have used more.\n",
            "\n",
            "Side\n",
            "Corn Maque Choux-slap your mom delicious. Creamy and exploding with flavor.\n",
            "\n",
            "If I haven't had the best food in my life in New Orleans I would have given them more stars. But with Emerial, Aunt Lea and John you have to come guns blazing.\n",
            "\n"
          ]
        }
      ]
    },
    {
      "cell_type": "markdown",
      "source": [
        "## Discussion/Conclusion"
      ],
      "metadata": {
        "id": "fKh9_uEpFtnZ"
      }
    },
    {
      "cell_type": "markdown",
      "source": [
        "Overall, we were able to efficiently analyze sentiment and extract relevant N-grams. One challenge that remains is how to visualize these results. For the deployment phase it is important to integrate the output of our model into a user interface. Effective visualization will increase the usability of the application, to allow for less technology-oriented users.\n",
        "\n",
        "There are some caveats that should be considered when evaluating our model. One concern is response bias in the data. This becomes evident when plotting the distribution of star ratings. Based on the visualization, people who have positive sentiments are more likely to post reviews than those with negative ones.\n",
        "\n",
        "Another aspect of repsonse bias that ought to be considered is the demographics of the users that post reviews. In our dataset there was no demographic information relating to customers. It is entirely possible that the population in the dataset may not represent the population as a whole.\n",
        "\n",
        "This becomes problematic when businesses attempt to pivot business practices based on feedback. This can complicate a business' abilty to serve a diverse customer base. In order to maximize the utility of the model, analysis should be conducted, exploring the demographic makeup of Yelp users and business patrons."
      ],
      "metadata": {
        "id": "_LT1-eyMJrWU"
      }
    }
  ]
}
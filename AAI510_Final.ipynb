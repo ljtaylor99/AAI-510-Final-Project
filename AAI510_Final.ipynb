{
  "nbformat": 4,
  "nbformat_minor": 0,
  "metadata": {
    "colab": {
      "provenance": [],
      "gpuType": "T4",
      "include_colab_link": true
    },
    "kernelspec": {
      "name": "python3",
      "display_name": "Python 3"
    },
    "language_info": {
      "name": "python"
    },
    "accelerator": "GPU"
  },
  "cells": [
    {
      "cell_type": "markdown",
      "metadata": {
        "id": "view-in-github",
        "colab_type": "text"
      },
      "source": [
        "<a href=\"https://colab.research.google.com/github/ljtaylor99/AAI-510-Final-Project/blob/main/AAI510_Final.ipynb\" target=\"_parent\"><img src=\"https://colab.research.google.com/assets/colab-badge.svg\" alt=\"Open In Colab\"/></a>"
      ]
    },
    {
      "cell_type": "markdown",
      "source": [
        "#### Imports"
      ],
      "metadata": {
        "id": "5KDXfvA0rO-E"
      }
    },
    {
      "cell_type": "code",
      "execution_count": null,
      "metadata": {
        "id": "6s1IIPAaq3rX",
        "colab": {
          "base_uri": "https://localhost:8080/"
        },
        "outputId": "5c9b115c-bdbf-4c52-851a-12089286a932"
      },
      "outputs": [
        {
          "output_type": "stream",
          "name": "stderr",
          "text": [
            "[nltk_data] Downloading package punkt to /root/nltk_data...\n",
            "[nltk_data]   Package punkt is already up-to-date!\n",
            "[nltk_data] Downloading package stopwords to /root/nltk_data...\n",
            "[nltk_data]   Package stopwords is already up-to-date!\n",
            "[nltk_data] Downloading package vader_lexicon to /root/nltk_data...\n",
            "[nltk_data]   Package vader_lexicon is already up-to-date!\n"
          ]
        },
        {
          "output_type": "execute_result",
          "data": {
            "text/plain": [
              "True"
            ]
          },
          "metadata": {},
          "execution_count": 1
        }
      ],
      "source": [
        "import matplotlib.pyplot as plt\n",
        "import numpy as np\n",
        "import pandas as pd\n",
        "import seaborn as sns\n",
        "import nltk\n",
        "from nltk.probability import FreqDist\n",
        "from nltk.corpus import stopwords\n",
        "nltk.download('punkt')\n",
        "nltk.download('stopwords')\n",
        "nltk.download('vader_lexicon')"
      ]
    },
    {
      "cell_type": "markdown",
      "source": [
        "#### Reading json"
      ],
      "metadata": {
        "id": "kNxnrjrErR9a"
      }
    },
    {
      "cell_type": "code",
      "source": [
        "from google.colab import drive\n",
        "drive.mount('/content/drive')"
      ],
      "metadata": {
        "colab": {
          "base_uri": "https://localhost:8080/"
        },
        "id": "tFgqqhLiB8Fd",
        "outputId": "989a9dfe-7864-480e-ce5a-dfde699f12a6"
      },
      "execution_count": null,
      "outputs": [
        {
          "output_type": "stream",
          "name": "stdout",
          "text": [
            "Drive already mounted at /content/drive; to attempt to forcibly remount, call drive.mount(\"/content/drive\", force_remount=True).\n"
          ]
        }
      ]
    },
    {
      "cell_type": "code",
      "source": [
        "# Click on Mount Drive to connect to Google Drive\n",
        "# Navigate to json file from dataset and replace file path\n",
        "df = pd.read_json('/content/drive/MyDrive/yelp_academic_dataset_review.json',nrows = 2000000,lines=True)\n",
        "df.head(5)"
      ],
      "metadata": {
        "id": "AGLnnZb8rFKj",
        "colab": {
          "base_uri": "https://localhost:8080/",
          "height": 337
        },
        "outputId": "0508af70-34c1-4cf9-c989-70e64bf9231b"
      },
      "execution_count": null,
      "outputs": [
        {
          "output_type": "execute_result",
          "data": {
            "text/plain": [
              "                review_id                 user_id             business_id  \\\n",
              "0  KU_O5udG6zpxOg-VcAEodg  mh_-eMZ6K5RLWhZyISBhwA  XQfwVwDr-v0ZS3_CbbE5Xw   \n",
              "1  BiTunyQ73aT9WBnpR9DZGw  OyoGAe7OKpv6SyGZT5g77Q  7ATYjTIgM3jUlt4UM3IypQ   \n",
              "2  saUsX_uimxRlCVr67Z4Jig  8g_iMtfSiwikVnbP2etR0A  YjUWPpI6HXG530lwP-fb2A   \n",
              "3  AqPFMleE6RsU23_auESxiA  _7bHUi9Uuf5__HHc_Q8guQ  kxX2SOes4o-D3ZQBkiMRfA   \n",
              "4  Sx8TMOWLNuJBWer-0pcmoA  bcjbaE6dDog4jkNY91ncLQ  e4Vwtrqf-wpJfwesgvdgxQ   \n",
              "\n",
              "   stars  useful  funny  cool  \\\n",
              "0      3       0      0     0   \n",
              "1      5       1      0     1   \n",
              "2      3       0      0     0   \n",
              "3      5       1      0     1   \n",
              "4      4       1      0     1   \n",
              "\n",
              "                                                text                date  \n",
              "0  If you decide to eat here, just be aware it is... 2018-07-07 22:09:11  \n",
              "1  I've taken a lot of spin classes over the year... 2012-01-03 15:28:18  \n",
              "2  Family diner. Had the buffet. Eclectic assortm... 2014-02-05 20:30:30  \n",
              "3  Wow!  Yummy, different,  delicious.   Our favo... 2015-01-04 00:01:03  \n",
              "4  Cute interior and owner (?) gave us tour of up... 2017-01-14 20:54:15  "
            ],
            "text/html": [
              "\n",
              "  <div id=\"df-8b5d2cf5-0e61-4b40-aeac-a9d0cd4c2f1b\">\n",
              "    <div class=\"colab-df-container\">\n",
              "      <div>\n",
              "<style scoped>\n",
              "    .dataframe tbody tr th:only-of-type {\n",
              "        vertical-align: middle;\n",
              "    }\n",
              "\n",
              "    .dataframe tbody tr th {\n",
              "        vertical-align: top;\n",
              "    }\n",
              "\n",
              "    .dataframe thead th {\n",
              "        text-align: right;\n",
              "    }\n",
              "</style>\n",
              "<table border=\"1\" class=\"dataframe\">\n",
              "  <thead>\n",
              "    <tr style=\"text-align: right;\">\n",
              "      <th></th>\n",
              "      <th>review_id</th>\n",
              "      <th>user_id</th>\n",
              "      <th>business_id</th>\n",
              "      <th>stars</th>\n",
              "      <th>useful</th>\n",
              "      <th>funny</th>\n",
              "      <th>cool</th>\n",
              "      <th>text</th>\n",
              "      <th>date</th>\n",
              "    </tr>\n",
              "  </thead>\n",
              "  <tbody>\n",
              "    <tr>\n",
              "      <th>0</th>\n",
              "      <td>KU_O5udG6zpxOg-VcAEodg</td>\n",
              "      <td>mh_-eMZ6K5RLWhZyISBhwA</td>\n",
              "      <td>XQfwVwDr-v0ZS3_CbbE5Xw</td>\n",
              "      <td>3</td>\n",
              "      <td>0</td>\n",
              "      <td>0</td>\n",
              "      <td>0</td>\n",
              "      <td>If you decide to eat here, just be aware it is...</td>\n",
              "      <td>2018-07-07 22:09:11</td>\n",
              "    </tr>\n",
              "    <tr>\n",
              "      <th>1</th>\n",
              "      <td>BiTunyQ73aT9WBnpR9DZGw</td>\n",
              "      <td>OyoGAe7OKpv6SyGZT5g77Q</td>\n",
              "      <td>7ATYjTIgM3jUlt4UM3IypQ</td>\n",
              "      <td>5</td>\n",
              "      <td>1</td>\n",
              "      <td>0</td>\n",
              "      <td>1</td>\n",
              "      <td>I've taken a lot of spin classes over the year...</td>\n",
              "      <td>2012-01-03 15:28:18</td>\n",
              "    </tr>\n",
              "    <tr>\n",
              "      <th>2</th>\n",
              "      <td>saUsX_uimxRlCVr67Z4Jig</td>\n",
              "      <td>8g_iMtfSiwikVnbP2etR0A</td>\n",
              "      <td>YjUWPpI6HXG530lwP-fb2A</td>\n",
              "      <td>3</td>\n",
              "      <td>0</td>\n",
              "      <td>0</td>\n",
              "      <td>0</td>\n",
              "      <td>Family diner. Had the buffet. Eclectic assortm...</td>\n",
              "      <td>2014-02-05 20:30:30</td>\n",
              "    </tr>\n",
              "    <tr>\n",
              "      <th>3</th>\n",
              "      <td>AqPFMleE6RsU23_auESxiA</td>\n",
              "      <td>_7bHUi9Uuf5__HHc_Q8guQ</td>\n",
              "      <td>kxX2SOes4o-D3ZQBkiMRfA</td>\n",
              "      <td>5</td>\n",
              "      <td>1</td>\n",
              "      <td>0</td>\n",
              "      <td>1</td>\n",
              "      <td>Wow!  Yummy, different,  delicious.   Our favo...</td>\n",
              "      <td>2015-01-04 00:01:03</td>\n",
              "    </tr>\n",
              "    <tr>\n",
              "      <th>4</th>\n",
              "      <td>Sx8TMOWLNuJBWer-0pcmoA</td>\n",
              "      <td>bcjbaE6dDog4jkNY91ncLQ</td>\n",
              "      <td>e4Vwtrqf-wpJfwesgvdgxQ</td>\n",
              "      <td>4</td>\n",
              "      <td>1</td>\n",
              "      <td>0</td>\n",
              "      <td>1</td>\n",
              "      <td>Cute interior and owner (?) gave us tour of up...</td>\n",
              "      <td>2017-01-14 20:54:15</td>\n",
              "    </tr>\n",
              "  </tbody>\n",
              "</table>\n",
              "</div>\n",
              "      <button class=\"colab-df-convert\" onclick=\"convertToInteractive('df-8b5d2cf5-0e61-4b40-aeac-a9d0cd4c2f1b')\"\n",
              "              title=\"Convert this dataframe to an interactive table.\"\n",
              "              style=\"display:none;\">\n",
              "        \n",
              "  <svg xmlns=\"http://www.w3.org/2000/svg\" height=\"24px\"viewBox=\"0 0 24 24\"\n",
              "       width=\"24px\">\n",
              "    <path d=\"M0 0h24v24H0V0z\" fill=\"none\"/>\n",
              "    <path d=\"M18.56 5.44l.94 2.06.94-2.06 2.06-.94-2.06-.94-.94-2.06-.94 2.06-2.06.94zm-11 1L8.5 8.5l.94-2.06 2.06-.94-2.06-.94L8.5 2.5l-.94 2.06-2.06.94zm10 10l.94 2.06.94-2.06 2.06-.94-2.06-.94-.94-2.06-.94 2.06-2.06.94z\"/><path d=\"M17.41 7.96l-1.37-1.37c-.4-.4-.92-.59-1.43-.59-.52 0-1.04.2-1.43.59L10.3 9.45l-7.72 7.72c-.78.78-.78 2.05 0 2.83L4 21.41c.39.39.9.59 1.41.59.51 0 1.02-.2 1.41-.59l7.78-7.78 2.81-2.81c.8-.78.8-2.07 0-2.86zM5.41 20L4 18.59l7.72-7.72 1.47 1.35L5.41 20z\"/>\n",
              "  </svg>\n",
              "      </button>\n",
              "      \n",
              "  <style>\n",
              "    .colab-df-container {\n",
              "      display:flex;\n",
              "      flex-wrap:wrap;\n",
              "      gap: 12px;\n",
              "    }\n",
              "\n",
              "    .colab-df-convert {\n",
              "      background-color: #E8F0FE;\n",
              "      border: none;\n",
              "      border-radius: 50%;\n",
              "      cursor: pointer;\n",
              "      display: none;\n",
              "      fill: #1967D2;\n",
              "      height: 32px;\n",
              "      padding: 0 0 0 0;\n",
              "      width: 32px;\n",
              "    }\n",
              "\n",
              "    .colab-df-convert:hover {\n",
              "      background-color: #E2EBFA;\n",
              "      box-shadow: 0px 1px 2px rgba(60, 64, 67, 0.3), 0px 1px 3px 1px rgba(60, 64, 67, 0.15);\n",
              "      fill: #174EA6;\n",
              "    }\n",
              "\n",
              "    [theme=dark] .colab-df-convert {\n",
              "      background-color: #3B4455;\n",
              "      fill: #D2E3FC;\n",
              "    }\n",
              "\n",
              "    [theme=dark] .colab-df-convert:hover {\n",
              "      background-color: #434B5C;\n",
              "      box-shadow: 0px 1px 3px 1px rgba(0, 0, 0, 0.15);\n",
              "      filter: drop-shadow(0px 1px 2px rgba(0, 0, 0, 0.3));\n",
              "      fill: #FFFFFF;\n",
              "    }\n",
              "  </style>\n",
              "\n",
              "      <script>\n",
              "        const buttonEl =\n",
              "          document.querySelector('#df-8b5d2cf5-0e61-4b40-aeac-a9d0cd4c2f1b button.colab-df-convert');\n",
              "        buttonEl.style.display =\n",
              "          google.colab.kernel.accessAllowed ? 'block' : 'none';\n",
              "\n",
              "        async function convertToInteractive(key) {\n",
              "          const element = document.querySelector('#df-8b5d2cf5-0e61-4b40-aeac-a9d0cd4c2f1b');\n",
              "          const dataTable =\n",
              "            await google.colab.kernel.invokeFunction('convertToInteractive',\n",
              "                                                     [key], {});\n",
              "          if (!dataTable) return;\n",
              "\n",
              "          const docLinkHtml = 'Like what you see? Visit the ' +\n",
              "            '<a target=\"_blank\" href=https://colab.research.google.com/notebooks/data_table.ipynb>data table notebook</a>'\n",
              "            + ' to learn more about interactive tables.';\n",
              "          element.innerHTML = '';\n",
              "          dataTable['output_type'] = 'display_data';\n",
              "          await google.colab.output.renderOutput(dataTable, element);\n",
              "          const docLink = document.createElement('div');\n",
              "          docLink.innerHTML = docLinkHtml;\n",
              "          element.appendChild(docLink);\n",
              "        }\n",
              "      </script>\n",
              "    </div>\n",
              "  </div>\n",
              "  "
            ]
          },
          "metadata": {},
          "execution_count": 3
        }
      ]
    },
    {
      "cell_type": "markdown",
      "source": [
        "#### Basic EDA"
      ],
      "metadata": {
        "id": "z_BZ-054t3J1"
      }
    },
    {
      "cell_type": "code",
      "source": [
        "df.columns"
      ],
      "metadata": {
        "id": "NfoBjmPHrn9_",
        "colab": {
          "base_uri": "https://localhost:8080/"
        },
        "outputId": "51a38e30-1dff-4b55-86f4-24e4cc4b1d96"
      },
      "execution_count": null,
      "outputs": [
        {
          "output_type": "execute_result",
          "data": {
            "text/plain": [
              "Index(['review_id', 'user_id', 'business_id', 'stars', 'useful', 'funny',\n",
              "       'cool', 'text', 'date'],\n",
              "      dtype='object')"
            ]
          },
          "metadata": {},
          "execution_count": 4
        }
      ]
    },
    {
      "cell_type": "code",
      "source": [
        "df.isnull().sum()"
      ],
      "metadata": {
        "id": "nVGSelIPrq12",
        "colab": {
          "base_uri": "https://localhost:8080/"
        },
        "outputId": "501330cf-7a15-460c-fc63-7a7a1e061f34"
      },
      "execution_count": null,
      "outputs": [
        {
          "output_type": "execute_result",
          "data": {
            "text/plain": [
              "review_id      0\n",
              "user_id        0\n",
              "business_id    0\n",
              "stars          0\n",
              "useful         0\n",
              "funny          0\n",
              "cool           0\n",
              "text           0\n",
              "date           0\n",
              "dtype: int64"
            ]
          },
          "metadata": {},
          "execution_count": 5
        }
      ]
    },
    {
      "cell_type": "code",
      "source": [
        "df.describe(include='all')"
      ],
      "metadata": {
        "id": "XtxyTxT2sPUz",
        "colab": {
          "base_uri": "https://localhost:8080/",
          "height": 678
        },
        "outputId": "c0054286-6200-4e61-f1d8-08777aeaa735"
      },
      "execution_count": null,
      "outputs": [
        {
          "output_type": "stream",
          "name": "stderr",
          "text": [
            "<ipython-input-6-174ba9bf1a5c>:1: FutureWarning: Treating datetime data as categorical rather than numeric in `.describe` is deprecated and will be removed in a future version of pandas. Specify `datetime_is_numeric=True` to silence this warning and adopt the future behavior now.\n",
            "  df.describe(include='all')\n"
          ]
        },
        {
          "output_type": "execute_result",
          "data": {
            "text/plain": [
              "                     review_id                 user_id  \\\n",
              "count                  2000000                 2000000   \n",
              "unique                 2000000                  895930   \n",
              "top     KU_O5udG6zpxOg-VcAEodg  _BcWyKQL16ndpBdggh2kNA   \n",
              "freq                         1                     894   \n",
              "first                      NaN                     NaN   \n",
              "last                       NaN                     NaN   \n",
              "mean                       NaN                     NaN   \n",
              "std                        NaN                     NaN   \n",
              "min                        NaN                     NaN   \n",
              "25%                        NaN                     NaN   \n",
              "50%                        NaN                     NaN   \n",
              "75%                        NaN                     NaN   \n",
              "max                        NaN                     NaN   \n",
              "\n",
              "                   business_id         stars        useful         funny  \\\n",
              "count                  2000000  2.000000e+06  2.000000e+06  2.000000e+06   \n",
              "unique                   45055           NaN           NaN           NaN   \n",
              "top     VQcCL9PiNL_wkGf-uF3fjg           NaN           NaN           NaN   \n",
              "freq                      4706           NaN           NaN           NaN   \n",
              "first                      NaN           NaN           NaN           NaN   \n",
              "last                       NaN           NaN           NaN           NaN   \n",
              "mean                       NaN  3.766570e+00  1.145340e+00  3.195710e-01   \n",
              "std                        NaN  1.462870e+00  2.909354e+00  1.641546e+00   \n",
              "min                        NaN  1.000000e+00 -1.000000e+00  0.000000e+00   \n",
              "25%                        NaN  3.000000e+00  0.000000e+00  0.000000e+00   \n",
              "50%                        NaN  4.000000e+00  0.000000e+00  0.000000e+00   \n",
              "75%                        NaN  5.000000e+00  1.000000e+00  0.000000e+00   \n",
              "max                        NaN  5.000000e+00  5.390000e+02  2.840000e+02   \n",
              "\n",
              "                cool                                               text  \\\n",
              "count   2.000000e+06                                            2000000   \n",
              "unique           NaN                                            1996202   \n",
              "top              NaN  DO NOT PARK HERE!\\nthey are too quick to boot ...   \n",
              "freq             NaN                                                  6   \n",
              "first            NaN                                                NaN   \n",
              "last             NaN                                                NaN   \n",
              "mean    4.794245e-01                                                NaN   \n",
              "std     1.925800e+00                                                NaN   \n",
              "min     0.000000e+00                                                NaN   \n",
              "25%     0.000000e+00                                                NaN   \n",
              "50%     0.000000e+00                                                NaN   \n",
              "75%     0.000000e+00                                                NaN   \n",
              "max     2.010000e+02                                                NaN   \n",
              "\n",
              "                       date  \n",
              "count               2000000  \n",
              "unique              1991307  \n",
              "top     2019-05-08 23:38:13  \n",
              "freq                      4  \n",
              "first   2005-03-01 16:57:17  \n",
              "last    2022-01-19 19:47:59  \n",
              "mean                    NaN  \n",
              "std                     NaN  \n",
              "min                     NaN  \n",
              "25%                     NaN  \n",
              "50%                     NaN  \n",
              "75%                     NaN  \n",
              "max                     NaN  "
            ],
            "text/html": [
              "\n",
              "  <div id=\"df-12dd728c-da32-4826-922f-78859363b326\">\n",
              "    <div class=\"colab-df-container\">\n",
              "      <div>\n",
              "<style scoped>\n",
              "    .dataframe tbody tr th:only-of-type {\n",
              "        vertical-align: middle;\n",
              "    }\n",
              "\n",
              "    .dataframe tbody tr th {\n",
              "        vertical-align: top;\n",
              "    }\n",
              "\n",
              "    .dataframe thead th {\n",
              "        text-align: right;\n",
              "    }\n",
              "</style>\n",
              "<table border=\"1\" class=\"dataframe\">\n",
              "  <thead>\n",
              "    <tr style=\"text-align: right;\">\n",
              "      <th></th>\n",
              "      <th>review_id</th>\n",
              "      <th>user_id</th>\n",
              "      <th>business_id</th>\n",
              "      <th>stars</th>\n",
              "      <th>useful</th>\n",
              "      <th>funny</th>\n",
              "      <th>cool</th>\n",
              "      <th>text</th>\n",
              "      <th>date</th>\n",
              "    </tr>\n",
              "  </thead>\n",
              "  <tbody>\n",
              "    <tr>\n",
              "      <th>count</th>\n",
              "      <td>2000000</td>\n",
              "      <td>2000000</td>\n",
              "      <td>2000000</td>\n",
              "      <td>2.000000e+06</td>\n",
              "      <td>2.000000e+06</td>\n",
              "      <td>2.000000e+06</td>\n",
              "      <td>2.000000e+06</td>\n",
              "      <td>2000000</td>\n",
              "      <td>2000000</td>\n",
              "    </tr>\n",
              "    <tr>\n",
              "      <th>unique</th>\n",
              "      <td>2000000</td>\n",
              "      <td>895930</td>\n",
              "      <td>45055</td>\n",
              "      <td>NaN</td>\n",
              "      <td>NaN</td>\n",
              "      <td>NaN</td>\n",
              "      <td>NaN</td>\n",
              "      <td>1996202</td>\n",
              "      <td>1991307</td>\n",
              "    </tr>\n",
              "    <tr>\n",
              "      <th>top</th>\n",
              "      <td>KU_O5udG6zpxOg-VcAEodg</td>\n",
              "      <td>_BcWyKQL16ndpBdggh2kNA</td>\n",
              "      <td>VQcCL9PiNL_wkGf-uF3fjg</td>\n",
              "      <td>NaN</td>\n",
              "      <td>NaN</td>\n",
              "      <td>NaN</td>\n",
              "      <td>NaN</td>\n",
              "      <td>DO NOT PARK HERE!\\nthey are too quick to boot ...</td>\n",
              "      <td>2019-05-08 23:38:13</td>\n",
              "    </tr>\n",
              "    <tr>\n",
              "      <th>freq</th>\n",
              "      <td>1</td>\n",
              "      <td>894</td>\n",
              "      <td>4706</td>\n",
              "      <td>NaN</td>\n",
              "      <td>NaN</td>\n",
              "      <td>NaN</td>\n",
              "      <td>NaN</td>\n",
              "      <td>6</td>\n",
              "      <td>4</td>\n",
              "    </tr>\n",
              "    <tr>\n",
              "      <th>first</th>\n",
              "      <td>NaN</td>\n",
              "      <td>NaN</td>\n",
              "      <td>NaN</td>\n",
              "      <td>NaN</td>\n",
              "      <td>NaN</td>\n",
              "      <td>NaN</td>\n",
              "      <td>NaN</td>\n",
              "      <td>NaN</td>\n",
              "      <td>2005-03-01 16:57:17</td>\n",
              "    </tr>\n",
              "    <tr>\n",
              "      <th>last</th>\n",
              "      <td>NaN</td>\n",
              "      <td>NaN</td>\n",
              "      <td>NaN</td>\n",
              "      <td>NaN</td>\n",
              "      <td>NaN</td>\n",
              "      <td>NaN</td>\n",
              "      <td>NaN</td>\n",
              "      <td>NaN</td>\n",
              "      <td>2022-01-19 19:47:59</td>\n",
              "    </tr>\n",
              "    <tr>\n",
              "      <th>mean</th>\n",
              "      <td>NaN</td>\n",
              "      <td>NaN</td>\n",
              "      <td>NaN</td>\n",
              "      <td>3.766570e+00</td>\n",
              "      <td>1.145340e+00</td>\n",
              "      <td>3.195710e-01</td>\n",
              "      <td>4.794245e-01</td>\n",
              "      <td>NaN</td>\n",
              "      <td>NaN</td>\n",
              "    </tr>\n",
              "    <tr>\n",
              "      <th>std</th>\n",
              "      <td>NaN</td>\n",
              "      <td>NaN</td>\n",
              "      <td>NaN</td>\n",
              "      <td>1.462870e+00</td>\n",
              "      <td>2.909354e+00</td>\n",
              "      <td>1.641546e+00</td>\n",
              "      <td>1.925800e+00</td>\n",
              "      <td>NaN</td>\n",
              "      <td>NaN</td>\n",
              "    </tr>\n",
              "    <tr>\n",
              "      <th>min</th>\n",
              "      <td>NaN</td>\n",
              "      <td>NaN</td>\n",
              "      <td>NaN</td>\n",
              "      <td>1.000000e+00</td>\n",
              "      <td>-1.000000e+00</td>\n",
              "      <td>0.000000e+00</td>\n",
              "      <td>0.000000e+00</td>\n",
              "      <td>NaN</td>\n",
              "      <td>NaN</td>\n",
              "    </tr>\n",
              "    <tr>\n",
              "      <th>25%</th>\n",
              "      <td>NaN</td>\n",
              "      <td>NaN</td>\n",
              "      <td>NaN</td>\n",
              "      <td>3.000000e+00</td>\n",
              "      <td>0.000000e+00</td>\n",
              "      <td>0.000000e+00</td>\n",
              "      <td>0.000000e+00</td>\n",
              "      <td>NaN</td>\n",
              "      <td>NaN</td>\n",
              "    </tr>\n",
              "    <tr>\n",
              "      <th>50%</th>\n",
              "      <td>NaN</td>\n",
              "      <td>NaN</td>\n",
              "      <td>NaN</td>\n",
              "      <td>4.000000e+00</td>\n",
              "      <td>0.000000e+00</td>\n",
              "      <td>0.000000e+00</td>\n",
              "      <td>0.000000e+00</td>\n",
              "      <td>NaN</td>\n",
              "      <td>NaN</td>\n",
              "    </tr>\n",
              "    <tr>\n",
              "      <th>75%</th>\n",
              "      <td>NaN</td>\n",
              "      <td>NaN</td>\n",
              "      <td>NaN</td>\n",
              "      <td>5.000000e+00</td>\n",
              "      <td>1.000000e+00</td>\n",
              "      <td>0.000000e+00</td>\n",
              "      <td>0.000000e+00</td>\n",
              "      <td>NaN</td>\n",
              "      <td>NaN</td>\n",
              "    </tr>\n",
              "    <tr>\n",
              "      <th>max</th>\n",
              "      <td>NaN</td>\n",
              "      <td>NaN</td>\n",
              "      <td>NaN</td>\n",
              "      <td>5.000000e+00</td>\n",
              "      <td>5.390000e+02</td>\n",
              "      <td>2.840000e+02</td>\n",
              "      <td>2.010000e+02</td>\n",
              "      <td>NaN</td>\n",
              "      <td>NaN</td>\n",
              "    </tr>\n",
              "  </tbody>\n",
              "</table>\n",
              "</div>\n",
              "      <button class=\"colab-df-convert\" onclick=\"convertToInteractive('df-12dd728c-da32-4826-922f-78859363b326')\"\n",
              "              title=\"Convert this dataframe to an interactive table.\"\n",
              "              style=\"display:none;\">\n",
              "        \n",
              "  <svg xmlns=\"http://www.w3.org/2000/svg\" height=\"24px\"viewBox=\"0 0 24 24\"\n",
              "       width=\"24px\">\n",
              "    <path d=\"M0 0h24v24H0V0z\" fill=\"none\"/>\n",
              "    <path d=\"M18.56 5.44l.94 2.06.94-2.06 2.06-.94-2.06-.94-.94-2.06-.94 2.06-2.06.94zm-11 1L8.5 8.5l.94-2.06 2.06-.94-2.06-.94L8.5 2.5l-.94 2.06-2.06.94zm10 10l.94 2.06.94-2.06 2.06-.94-2.06-.94-.94-2.06-.94 2.06-2.06.94z\"/><path d=\"M17.41 7.96l-1.37-1.37c-.4-.4-.92-.59-1.43-.59-.52 0-1.04.2-1.43.59L10.3 9.45l-7.72 7.72c-.78.78-.78 2.05 0 2.83L4 21.41c.39.39.9.59 1.41.59.51 0 1.02-.2 1.41-.59l7.78-7.78 2.81-2.81c.8-.78.8-2.07 0-2.86zM5.41 20L4 18.59l7.72-7.72 1.47 1.35L5.41 20z\"/>\n",
              "  </svg>\n",
              "      </button>\n",
              "      \n",
              "  <style>\n",
              "    .colab-df-container {\n",
              "      display:flex;\n",
              "      flex-wrap:wrap;\n",
              "      gap: 12px;\n",
              "    }\n",
              "\n",
              "    .colab-df-convert {\n",
              "      background-color: #E8F0FE;\n",
              "      border: none;\n",
              "      border-radius: 50%;\n",
              "      cursor: pointer;\n",
              "      display: none;\n",
              "      fill: #1967D2;\n",
              "      height: 32px;\n",
              "      padding: 0 0 0 0;\n",
              "      width: 32px;\n",
              "    }\n",
              "\n",
              "    .colab-df-convert:hover {\n",
              "      background-color: #E2EBFA;\n",
              "      box-shadow: 0px 1px 2px rgba(60, 64, 67, 0.3), 0px 1px 3px 1px rgba(60, 64, 67, 0.15);\n",
              "      fill: #174EA6;\n",
              "    }\n",
              "\n",
              "    [theme=dark] .colab-df-convert {\n",
              "      background-color: #3B4455;\n",
              "      fill: #D2E3FC;\n",
              "    }\n",
              "\n",
              "    [theme=dark] .colab-df-convert:hover {\n",
              "      background-color: #434B5C;\n",
              "      box-shadow: 0px 1px 3px 1px rgba(0, 0, 0, 0.15);\n",
              "      filter: drop-shadow(0px 1px 2px rgba(0, 0, 0, 0.3));\n",
              "      fill: #FFFFFF;\n",
              "    }\n",
              "  </style>\n",
              "\n",
              "      <script>\n",
              "        const buttonEl =\n",
              "          document.querySelector('#df-12dd728c-da32-4826-922f-78859363b326 button.colab-df-convert');\n",
              "        buttonEl.style.display =\n",
              "          google.colab.kernel.accessAllowed ? 'block' : 'none';\n",
              "\n",
              "        async function convertToInteractive(key) {\n",
              "          const element = document.querySelector('#df-12dd728c-da32-4826-922f-78859363b326');\n",
              "          const dataTable =\n",
              "            await google.colab.kernel.invokeFunction('convertToInteractive',\n",
              "                                                     [key], {});\n",
              "          if (!dataTable) return;\n",
              "\n",
              "          const docLinkHtml = 'Like what you see? Visit the ' +\n",
              "            '<a target=\"_blank\" href=https://colab.research.google.com/notebooks/data_table.ipynb>data table notebook</a>'\n",
              "            + ' to learn more about interactive tables.';\n",
              "          element.innerHTML = '';\n",
              "          dataTable['output_type'] = 'display_data';\n",
              "          await google.colab.output.renderOutput(dataTable, element);\n",
              "          const docLink = document.createElement('div');\n",
              "          docLink.innerHTML = docLinkHtml;\n",
              "          element.appendChild(docLink);\n",
              "        }\n",
              "      </script>\n",
              "    </div>\n",
              "  </div>\n",
              "  "
            ]
          },
          "metadata": {},
          "execution_count": 6
        }
      ]
    },
    {
      "cell_type": "code",
      "source": [
        "# Value counts for different businesses\n",
        "df['business_id'].value_counts()"
      ],
      "metadata": {
        "colab": {
          "base_uri": "https://localhost:8080/"
        },
        "id": "hxrD3XKEFyZs",
        "outputId": "66f477d6-4089-4532-d1a1-91dcc9a48ba0"
      },
      "execution_count": null,
      "outputs": [
        {
          "output_type": "execute_result",
          "data": {
            "text/plain": [
              "VQcCL9PiNL_wkGf-uF3fjg    4706\n",
              "GBTPC53ZrG1ZBY3DT8Mbcw    4661\n",
              "_C7QiQQc47AOEv4PE3Kong    4440\n",
              "qb28j-FNX1_6xm7u372TZA    3561\n",
              "DcBLYSvOuWcNReolRVr12A    3217\n",
              "                          ... \n",
              "0U5d1K0p0u9e_NmX7U3FUA       1\n",
              "qKjOn_PJQIudpQpoolB0bw       1\n",
              "dGLx7Ls5DQtlG0sLcZ0DZQ       1\n",
              "6BJ4LYa42I-gBz9IhhidYg       1\n",
              "AFU5ZlFCYA0_Eqw5MlqJOg       1\n",
              "Name: business_id, Length: 45055, dtype: int64"
            ]
          },
          "metadata": {},
          "execution_count": 7
        }
      ]
    },
    {
      "cell_type": "code",
      "source": [
        "# Value counts of stars\n",
        "df['stars'].value_counts()"
      ],
      "metadata": {
        "colab": {
          "base_uri": "https://localhost:8080/"
        },
        "id": "rVgWWBFQpYbv",
        "outputId": "abc5df04-c4c2-49de-80c7-b5fff353c353"
      },
      "execution_count": null,
      "outputs": [
        {
          "output_type": "execute_result",
          "data": {
            "text/plain": [
              "5    924989\n",
              "4    425651\n",
              "1    293571\n",
              "3    200443\n",
              "2    155346\n",
              "Name: stars, dtype: int64"
            ]
          },
          "metadata": {},
          "execution_count": 8
        }
      ]
    },
    {
      "cell_type": "code",
      "source": [
        "# Plot distribution of stars\n",
        "plt.xlabel('Number of Stars')\n",
        "plt.title('Distribution of Star Ratings')\n",
        "sns.histplot(df['stars'],bins = 5)"
      ],
      "metadata": {
        "colab": {
          "base_uri": "https://localhost:8080/",
          "height": 490
        },
        "id": "CZedDUkdHrKQ",
        "outputId": "eec00828-6d73-488c-af40-1b7755856205"
      },
      "execution_count": null,
      "outputs": [
        {
          "output_type": "execute_result",
          "data": {
            "text/plain": [
              "<Axes: title={'center': 'Distribution of Star Ratings'}, xlabel='Number of Stars', ylabel='Count'>"
            ]
          },
          "metadata": {},
          "execution_count": 9
        },
        {
          "output_type": "display_data",
          "data": {
            "text/plain": [
              "<Figure size 640x480 with 1 Axes>"
            ],
            "image/png": "[encoded data removed]"
          },
          "metadata": {}
        }
      ]
    },
    {
      "cell_type": "markdown",
      "source": [
        "## Data Prep"
      ],
      "metadata": {
        "id": "N_eXC3TVpGFY"
      }
    },
    {
      "cell_type": "code",
      "source": [
        "# Use reviews from one business\n",
        "df_b1 = df[df['business_id']=='VQcCL9PiNL_wkGf-uF3fjg']\n",
        "len(df_b1)"
      ],
      "metadata": {
        "colab": {
          "base_uri": "https://localhost:8080/"
        },
        "id": "tAHjezFewVlo",
        "outputId": "e870bc64-c99e-4519-cde0-d932780a572a"
      },
      "execution_count": null,
      "outputs": [
        {
          "output_type": "execute_result",
          "data": {
            "text/plain": [
              "4706"
            ]
          },
          "metadata": {},
          "execution_count": 10
        }
      ]
    },
    {
      "cell_type": "code",
      "source": [
        "# Plot distribution of stars for business\n",
        "plt.xlabel('Number of Stars')\n",
        "plt.title('Distribution of Star Ratings')\n",
        "sns.histplot(df_b1['stars'],bins = 5)"
      ],
      "metadata": {
        "colab": {
          "base_uri": "https://localhost:8080/",
          "height": 490
        },
        "id": "0GoXyOIrg-1j",
        "outputId": "f060119f-b6d9-460f-ba79-f33905207085"
      },
      "execution_count": null,
      "outputs": [
        {
          "output_type": "execute_result",
          "data": {
            "text/plain": [
              "<Axes: title={'center': 'Distribution of Star Ratings'}, xlabel='Number of Stars', ylabel='Count'>"
            ]
          },
          "metadata": {},
          "execution_count": 11
        },
        {
          "output_type": "display_data",
          "data": {
            "text/plain": [
              "<Figure size 640x480 with 1 Axes>"
            ],
            "image/png": "[encoded data removed]"
          },
          "metadata": {}
        }
      ]
    },
    {
      "cell_type": "code",
      "source": [
        "# Tokenize sentences\n",
        "sentences = df_b1['text'].apply(nltk.sent_tokenize)\n",
        "# Reset index\n",
        "sentences.reset_index(inplace = True,drop = True)\n",
        "sentences1 = []\n",
        "# Combine sentences into 1 list\n",
        "for r in sentences:\n",
        "  for s in r:\n",
        "    sentences1.append(s)\n",
        "\n",
        "# Print sentences for first review\n",
        "sentences[0]"
      ],
      "metadata": {
        "colab": {
          "base_uri": "https://localhost:8080/"
        },
        "id": "k4xt8U2hpIZC",
        "outputId": "c70b286b-9dfd-4a1e-a2e1-0c2fd3790127"
      },
      "execution_count": null,
      "outputs": [
        {
          "output_type": "execute_result",
          "data": {
            "text/plain": [
              "['We waited about five minutes to get seated for the group of five, and we were seated upstairs.',\n",
              " 'Our server was really friendly and gave us a quick rundown of the menu, and we got the crawfish beignet as an appetizer from the checking on Yelp.',\n",
              " \"Apparently the appetizer isn't free like the Yelp check-in says but it's -$10 for whatever appetizer you get.\",\n",
              " 'Anyway, we ordered a bunch of food including two platters of oysters, and we then we started waiting.',\n",
              " 'And waiting.',\n",
              " 'After maybe twenty minutes, our first platter of oysters came, closely followed by the second plate.',\n",
              " \"We noticed the second plate wasn't what we ordered so we asked the waiter who took it back.\",\n",
              " 'We then waited for another twenty or thirty minutes for our food, and our entrees came.',\n",
              " 'Our oysters never did.',\n",
              " 'We told the waiter and he said there was a mixup and our oysters were given to the table next to us.',\n",
              " \"The manager came by afterward and told us that she'd give us two orders of what we got on the house (too bad I don't really eat oysters).\",\n",
              " 'So I ate my crawfish etouffee and it was quite good.',\n",
              " 'A bit salty, but good.',\n",
              " 'Nice spicy flavor and a good amount of crawfish, both fried bits on top and in the sauce.',\n",
              " 'I asked for more bread as well so I could soak up the sauce.',\n",
              " 'I quite enjoyed that dish.',\n",
              " 'When the oysters finally came after we had already all finished our meal (this was probably another 10-15 minutes), the Rockefeller oysters came and I tried one.',\n",
              " 'Way too much cheese on top!',\n",
              " 'Otherwise I think ok as far as oysters go.',\n",
              " 'Then we asked for the check do which also took at least five minutes to get here.',\n",
              " \"My crawfish dish was $17 pre-tax which is a bit pricey, and combined with the mixup and the super long waiting times, I wouldn't suggest coming here.\",\n",
              " \"The waiter apologized many times for the mixup which is fine, but it doesn't excuse the super long wait times for our main entrees.\",\n",
              " \"To be fair, my food (the crawfish etouffee) was quite good and deserves 4 stars, but the long long long wait and inefficiencies (I'm excusing the mix-up with the oysters because there was a miscommunication which I understand happens - what isn't excusable is how long we waited for our entrees/other dishes, the check, etc etc) subtracted 1 star.\"]"
            ]
          },
          "metadata": {},
          "execution_count": 12
        }
      ]
    },
    {
      "cell_type": "code",
      "source": [],
      "metadata": {
        "id": "YkxvoTmN4S48"
      },
      "execution_count": null,
      "outputs": []
    },
    {
      "cell_type": "code",
      "source": [
        "# Tokenize words\n",
        "\n",
        "words = df_b1['text'].apply(nltk.word_tokenize)\n",
        "# Reset index\n",
        "words.reset_index(inplace = True,drop = True)"
      ],
      "metadata": {
        "id": "T5M1fhAvuRKd"
      },
      "execution_count": null,
      "outputs": []
    },
    {
      "cell_type": "code",
      "source": [],
      "metadata": {
        "id": "htipnTpXrU0o"
      },
      "execution_count": null,
      "outputs": []
    },
    {
      "cell_type": "code",
      "source": [
        "# combine the lists of words into one list\n",
        "words1 = []\n",
        "for i in words:\n",
        "  for j in i:\n",
        "    words1.append(j)\n"
      ],
      "metadata": {
        "id": "tVv4LC5w3gt8"
      },
      "execution_count": null,
      "outputs": []
    },
    {
      "cell_type": "code",
      "source": [
        "word_freq = FreqDist(words1)\n",
        "# Print 20 most common words\n",
        "word_freq.most_common(20)"
      ],
      "metadata": {
        "colab": {
          "base_uri": "https://localhost:8080/"
        },
        "id": "4vYKc02f1CP6",
        "outputId": "74109753-b0c5-47db-d199-eb394ba49670"
      },
      "execution_count": null,
      "outputs": [
        {
          "output_type": "execute_result",
          "data": {
            "text/plain": [
              "[('.', 26550),\n",
              " ('the', 18604),\n",
              " ('and', 14863),\n",
              " (',', 12575),\n",
              " ('was', 11814),\n",
              " ('a', 8825),\n",
              " ('I', 8674),\n",
              " ('to', 7591),\n",
              " ('!', 6524),\n",
              " ('of', 5675),\n",
              " ('The', 4670),\n",
              " ('it', 4550),\n",
              " ('were', 4443),\n",
              " ('in', 4372),\n",
              " ('for', 4330),\n",
              " ('we', 3819),\n",
              " ('had', 3700),\n",
              " ('but', 3221),\n",
              " ('with', 3058),\n",
              " ('We', 2983)]"
            ]
          },
          "metadata": {},
          "execution_count": 15
        }
      ]
    },
    {
      "cell_type": "code",
      "source": [
        "# Remove punctuation\n",
        "no_p = []\n",
        "for i in words1:\n",
        "  if i.isalpha():\n",
        "    no_p.append(i.lower())\n",
        "\n",
        "# Remove stopwords\n",
        "stop_words = stopwords.words('english')\n",
        "no_s = []\n",
        "for j in no_p:\n",
        "  if j not in stop_words:\n",
        "    no_s.append(j)"
      ],
      "metadata": {
        "id": "e08dOvWJ4K1V"
      },
      "execution_count": null,
      "outputs": []
    },
    {
      "cell_type": "code",
      "source": [
        "# Word frequency of clean data\n",
        "word_freq = FreqDist(no_s)\n",
        "\n",
        "# Top 20 words\n",
        "word_freq.most_common(20)"
      ],
      "metadata": {
        "colab": {
          "base_uri": "https://localhost:8080/"
        },
        "id": "V5EIf49aeShC",
        "outputId": "0a90c3f1-6b20-4a4d-a9ab-e44679a91635"
      },
      "execution_count": null,
      "outputs": [
        {
          "output_type": "execute_result",
          "data": {
            "text/plain": [
              "[('food', 3316),\n",
              " ('oysters', 3026),\n",
              " ('good', 2719),\n",
              " ('great', 2486),\n",
              " ('service', 2014),\n",
              " ('shrimp', 1758),\n",
              " ('place', 1725),\n",
              " ('new', 1468),\n",
              " ('orleans', 1354),\n",
              " ('ordered', 1303),\n",
              " ('us', 1296),\n",
              " ('would', 1265),\n",
              " ('crab', 1161),\n",
              " ('royal', 1095),\n",
              " ('got', 1076),\n",
              " ('back', 1076),\n",
              " ('time', 1076),\n",
              " ('like', 1047),\n",
              " ('came', 1037),\n",
              " ('best', 999)]"
            ]
          },
          "metadata": {},
          "execution_count": 17
        }
      ]
    },
    {
      "cell_type": "code",
      "source": [
        "# Plot word frequency\n",
        "word_freq.plot(20)"
      ],
      "metadata": {
        "colab": {
          "base_uri": "https://localhost:8080/",
          "height": 508
        },
        "id": "Zt4qq9W7exc_",
        "outputId": "600b479e-a782-4301-b2cf-a270db5d2bad"
      },
      "execution_count": null,
      "outputs": [
        {
          "output_type": "display_data",
          "data": {
            "text/plain": [
              "<Figure size 640x480 with 1 Axes>"
            ],
            "image/png": "[encoded data removed]"
          },
          "metadata": {}
        },
        {
          "output_type": "execute_result",
          "data": {
            "text/plain": [
              "<Axes: xlabel='Samples', ylabel='Counts'>"
            ]
          },
          "metadata": {},
          "execution_count": 18
        }
      ]
    },
    {
      "cell_type": "code",
      "source": [
        "# See contexts in which common words appear\n",
        "from nltk.text import Text\n",
        "corpus = Text(no_p)\n",
        "corpus.concordance('service')"
      ],
      "metadata": {
        "colab": {
          "base_uri": "https://localhost:8080/"
        },
        "id": "67kJkDKVjSJm",
        "outputId": "4c98b0c5-dbbb-418e-997a-3cd7c88b1c04"
      },
      "execution_count": null,
      "outputs": [
        {
          "output_type": "stream",
          "name": "stdout",
          "text": [
            "Displaying 25 of 2014 matches:\n",
            "sitting at the bar downstairs or up service is very attentive and food is every\n",
            "fter use the free appetizers coupon service was very good this place was delici\n",
            "verly salty good ambience and great service we had friends recommend that we go\n",
            "r great ambience and energy and the service was personalized and prompt food wa\n",
            " server tina was the best excellent service french onion soup was great the cha\n",
            " pretty fantastic as well very slow service it took us minutes just to get a wa\n",
            "arted this restaurant has the worst service of any restaurant i have ever been \n",
            "d the banana foster with cheesecake service was not that great we were initiall\n",
            " you do get much of special attn on service side i think is being generous here\n",
            "ou can do better in that area great service and staff food was fun ate a lot of\n",
            "nd we were seated by the window the service was spectacular however we were les\n",
            " spent almost our whole night there service was just that slow would never come\n",
            "first and foremost we had the worst service the fellow we had did even deserve \n",
            "w we had did even deserve a tip his service was atrocious at best we started wi\n",
            "all you deserve no tip the food and service at this place are absolutely horren\n",
            "ony was great to people watch great service too also a discount for being a loc\n",
            "tely amazing loved the food and the service here oysters on the half shell shuc\n",
            "nks food thanks becks for the great service and awesome much appreciated also l\n",
            "and providing an excellent customer service we came here for our last evening i\n",
            "et in my opinion food was just okay service is slow alligator bites tastes like\n",
            "okay nothing particularly stood out service is slow eating time was but we prob\n",
            "re on a late saturday afternoon the service was a bit slow otherwise would have\n",
            "imp tortellini was also amazing the service is slow or i would give stars i als\n",
            "ated quickly on the balcony and the service was fast and friendly but the food \n",
            "were good though epic fail terrible service awful drinks i am my friend ordered\n"
          ]
        }
      ]
    },
    {
      "cell_type": "code",
      "source": [
        "# find 4-grams\n",
        "# https://stackoverflow.com/questions/42373747/is-there-a-more-efficient-way-to-find-most-common-n-grams\n",
        "from collections import Counter\n",
        "from nltk import ngrams\n",
        "\n",
        "ngram_counts = Counter(ngrams(corpus,4))\n",
        "ngram_counts.most_common(20)"
      ],
      "metadata": {
        "colab": {
          "base_uri": "https://localhost:8080/"
        },
        "id": "BUO77ckzoSBq",
        "outputId": "0ebd08c6-ff8d-4eb1-fbec-5b2026c0d9f5"
      },
      "execution_count": null,
      "outputs": [
        {
          "output_type": "execute_result",
          "data": {
            "text/plain": [
              "[(('taste', 'of', 'new', 'orleans'), 351),\n",
              " (('the', 'taste', 'of', 'new'), 240),\n",
              " (('in', 'the', 'french', 'quarter'), 188),\n",
              " (('the', 'shrimp', 'and', 'grits'), 146),\n",
              " (('one', 'of', 'the', 'best'), 92),\n",
              " (('sat', 'at', 'the', 'bar'), 90),\n",
              " (('red', 'beans', 'and', 'rice'), 81),\n",
              " (('at', 'the', 'bar', 'and'), 78),\n",
              " (('in', 'new', 'orleans', 'and'), 78),\n",
              " (('and', 'the', 'food', 'was'), 76),\n",
              " (('the', 'crab', 'claws', 'and'), 72),\n",
              " (('on', 'the', 'half', 'shell'), 72),\n",
              " (('the', 'french', 'onion', 'soup'), 66),\n",
              " (('of', 'new', 'orleans', 'and'), 65),\n",
              " (('oysters', 'on', 'the', 'half'), 65),\n",
              " (('the', 'crab', 'claw', 'appetizer'), 63),\n",
              " (('shrimp', 'and', 'grits', 'and'), 60),\n",
              " (('the', 'crab', 'claws', 'were'), 59),\n",
              " (('at', 'the', 'royal', 'house'), 57),\n",
              " (('the', 'service', 'was', 'great'), 56)]"
            ]
          },
          "metadata": {},
          "execution_count": 20
        }
      ]
    },
    {
      "cell_type": "code",
      "source": [
        "df_b1['stars'].value_counts()"
      ],
      "metadata": {
        "colab": {
          "base_uri": "https://localhost:8080/"
        },
        "id": "rTQpfieMd3Dd",
        "outputId": "76610e04-dae2-4bc2-e5e0-3cb20ab1f2ba"
      },
      "execution_count": null,
      "outputs": [
        {
          "output_type": "execute_result",
          "data": {
            "text/plain": [
              "5    1939\n",
              "4    1222\n",
              "3     661\n",
              "2     449\n",
              "1     435\n",
              "Name: stars, dtype: int64"
            ]
          },
          "metadata": {},
          "execution_count": 21
        }
      ]
    },
    {
      "cell_type": "code",
      "source": [],
      "metadata": {
        "id": "LBf9YHy1iVff"
      },
      "execution_count": null,
      "outputs": []
    },
    {
      "cell_type": "markdown",
      "source": [
        "## Sentiment Analysis"
      ],
      "metadata": {
        "id": "tKuDMU4QzcAB"
      }
    },
    {
      "cell_type": "code",
      "source": [
        "\n",
        "from nltk.sentiment.vader import SentimentIntensityAnalyzer\n",
        "# Analyze the sentiment of text, return the comments as lists of positive and negative sentences\n",
        "# Input is list of sentences\n",
        "def get_sentiment(txt):\n",
        "  sia = SentimentIntensityAnalyzer()\n",
        "  pos_com = []\n",
        "  neg_com = []\n",
        "  for s in txt:\n",
        "      # Get sentiment of sentence\n",
        "      sent_ = sia.polarity_scores(s)\n",
        "      if sent_['compound'] > .6:\n",
        "        pos_com.append(s)\n",
        "      elif sent_['compound'] < -.6:\n",
        "        neg_com.append(s)\n",
        "\n",
        "  return(pos_com,neg_com)\n",
        "\n"
      ],
      "metadata": {
        "id": "xJWP3JUqu-ef"
      },
      "execution_count": null,
      "outputs": []
    },
    {
      "cell_type": "code",
      "source": [
        "# Run function\n",
        "gs = get_sentiment(sentences1)\n",
        "# First 20 positive comments\n",
        "gs[0][0:20]"
      ],
      "metadata": {
        "colab": {
          "base_uri": "https://localhost:8080/"
        },
        "id": "mpovx2BJJCxN",
        "outputId": "29739601-bd85-43de-8f3f-f5679f6951ca"
      },
      "execution_count": null,
      "outputs": [
        {
          "output_type": "execute_result",
          "data": {
            "text/plain": [
              "['Nice spicy flavor and a good amount of crawfish, both fried bits on top and in the sauce.',\n",
              " 'Our food was cold our wonderful waitress Sydney came back have it heated for us  And she stood there to make sure that we try that that it would be hot.',\n",
              " 'Use the free appetizers coupon.. Service was very good.',\n",
              " 'The crab fingers appetizer was fabulous!!!',\n",
              " \"It's like $10 and you don't even know how good.\",\n",
              " 'Good ambience and great service.',\n",
              " 'We had friends recommend that we go to the Royal House on a recent trip to NOLA.',\n",
              " 'He suggested the best oysters we had ever had!',\n",
              " 'Chris was so great that we came back everyday on our trip to sit at the bar and have oysters and drinks.',\n",
              " 'For appetizers, grilled oysters were awesome.',\n",
              " 'Great ambience and energy and the service was personalized and prompt.',\n",
              " 'Our server Tina was the best.',\n",
              " 'Excellent service!',\n",
              " 'French onion soup was great.',\n",
              " 'The chargrilled oysters are on the small side compared to dragos which are big and great.',\n",
              " 'We like this place because we can sit by open window and we are never disappointed.',\n",
              " 'My server/oyster shucker was Antoine and he was very friendly and helpful.',\n",
              " 'Their chicken and andouille sausage gumbo is amazing though not as spicy as some would like I think.',\n",
              " 'I had the Dark and Stormy cocktail which was pretty fantastic as well.',\n",
              " 'Wait staff is friendly and helpful.']"
            ]
          },
          "metadata": {},
          "execution_count": 23
        }
      ]
    },
    {
      "cell_type": "code",
      "source": [
        "# First 20 negative comments\n",
        "gs[1][0:20]"
      ],
      "metadata": {
        "colab": {
          "base_uri": "https://localhost:8080/"
        },
        "id": "kHRroDPDSfLC",
        "outputId": "0b0b8d36-a752-436c-acff-a917c9b90908"
      },
      "execution_count": null,
      "outputs": [
        {
          "output_type": "execute_result",
          "data": {
            "text/plain": [
              "['Creole shrimp was bomb, gator bites on point and the crawfish ravioli was to die for.',\n",
              " 'We wanted to order for a while then magically as I type this for you our waitress appears and we order the \"taste of New Orleans\" and the \"Po Boi\" also stuffed mushrooms to get started!!!!',\n",
              " 'This restaurant has the worst service of any restaurant I have ever been to in NOLA.',\n",
              " ':( I had the Alaskan Snow Crab which was either overcooked or not fresh because the meat was stuck on the shells, some parts of it were cold, too.',\n",
              " 'But the crab claw appetizer was to die for.',\n",
              " 'It was one of the worst places I have ever eaten in my entire life.',\n",
              " 'The pear martini was made with the Worst tasting ingredients of all time and so much melon liquor that is all I could taste.',\n",
              " 'The bloody mary I am told was just as bad and overly salty.',\n",
              " 'I am one to tip very well when warranted,  if you are a good server and even if you are having a bad day and I can tell I still  tip well but if you give it no effort at all you deserve no tip!!!',\n",
              " 'The food and service at this place are absolutely horrendous!!!',\n",
              " 'Sad, sad sad.',\n",
              " \"And so there we sat, watching the show of people below us who had no idea that right above their heads were ladies sipping on their Bloody Mary's watching the world go by.\",\n",
              " \"(2 stars)\\n\\nOverall, I give the place 4 stars because the atmosphere wasn't great and the bad experience with the appetizer.\",\n",
              " 'EPIC Fail - Terrible service, awful drinks.',\n",
              " 'Our waitress was Tina and she killed it.',\n",
              " \"I guess if you're hammered you don't really notice the crap service, too bad we were sober.\",\n",
              " 'Food was cold.. Not spicy at all ( as told).. And the service was slow as hell!',\n",
              " 'The crab claws all the way to the French onion soup are to die for!!!!!!!!!!!',\n",
              " 'The shrimp po boy was horribly dry (decided to give this one another try as well,  I came here over a year ago) and too much batter on the shrimp... Again.',\n",
              " 'Our apps never showed up until our entrees were brought out... food trickled out to the table within 30 minutes of each other... no apologies.... poor service and food experience.']"
            ]
          },
          "metadata": {},
          "execution_count": 24
        }
      ]
    },
    {
      "cell_type": "markdown",
      "source": [
        "### There's some misclassification. The classifier seems to misunderstand slang, falsely classifying phrases like 'the bomb' or 'to die for' as negative."
      ],
      "metadata": {
        "id": "tg7YWSCLTJ7n"
      }
    },
    {
      "cell_type": "code",
      "source": [
        "# Take closer look at misclassifed sentence\n",
        "sia = SentimentIntensityAnalyzer()\n",
        "sia.polarity_scores('The crab claws all the way to the French onion soup are to die for!!!!!!!!!!!',)"
      ],
      "metadata": {
        "colab": {
          "base_uri": "https://localhost:8080/"
        },
        "id": "KAtCPhMizunp",
        "outputId": "dd5c5a02-0c83-4e57-8752-aaf680b9b208"
      },
      "execution_count": null,
      "outputs": [
        {
          "output_type": "execute_result",
          "data": {
            "text/plain": [
              "{'neg': 0.266, 'neu': 0.734, 'pos': 0.0, 'compound': -0.7243}"
            ]
          },
          "metadata": {},
          "execution_count": 29
        }
      ]
    },
    {
      "cell_type": "code",
      "source": [
        "def validate_sentiment(df):\n",
        "  val_score = []\n",
        "  sia = SentimentIntensityAnalyzer()\n",
        "  for i, j in df.iterrows():\n",
        "    pol_score = sia.polarity_scores(df['text'][i])\n",
        "    # False Negative - Star is positive\n",
        "    if pol_score['compound'] < -0.6 and df['stars'][i] >= 4:\n",
        "      val_score.append('Positive')\n",
        "    # True Negative - Star and Review Negative\n",
        "    elif pol_score['compound'] < -0.6 and df['stars'][i] <= 2:\n",
        "      val_score.append('Negative')\n",
        "    # True Neutral\n",
        "    elif (-0.6 > pol_score['compound'] < 0.6) and (2 > df['stars'][i] < 4):\n",
        "      val_score.append('Neutral')\n",
        "    # False Positive\n",
        "    elif pol_score['compound'] > 0.6 and df['stars'][i] >= 2:\n",
        "      val_score.append('Negative')\n",
        "    # True Positive\n",
        "    elif pol_score['compound'] > 0.6 and df['stars'][i] >= 4:\n",
        "      val_score.append('Positive')\n",
        "    # Regular Sentiment\n",
        "    elif pol_score['compound'] < -0.6:\n",
        "      val_score.append('Negative')\n",
        "    elif (-0.6 > pol_score['compound'] < 0.6):\n",
        "      val_score.append('Neutral')\n",
        "    elif pol_score['compound'] > 0.6:\n",
        "      val_score.append('Positive')\n",
        "\n"
      ],
      "metadata": {
        "id": "DhLb1kI2XIqF"
      },
      "execution_count": null,
      "outputs": []
    }
  ]
}